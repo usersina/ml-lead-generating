{
 "cells": [
  {
   "cell_type": "code",
   "execution_count": 42,
   "metadata": {},
   "outputs": [],
   "source": [
    "import os\n",
    "import pickle\n",
    "\n",
    "import matplotlib.pyplot as plt\n",
    "import numpy as np\n",
    "import pandas as pd\n",
    "import seaborn as sns\n",
    "from sklearn.decomposition import TruncatedSVD\n",
    "from sklearn.model_selection import train_test_split\n",
    "from sklearn.preprocessing import LabelEncoder"
   ]
  },
  {
   "cell_type": "markdown",
   "metadata": {},
   "source": [
    "# I. Data Exploration"
   ]
  },
  {
   "cell_type": "markdown",
   "metadata": {},
   "source": [
    "## 1. Campaigns"
   ]
  },
  {
   "cell_type": "code",
   "execution_count": 43,
   "metadata": {},
   "outputs": [
    {
     "data": {
      "text/html": [
       "<div>\n",
       "<style scoped>\n",
       "    .dataframe tbody tr th:only-of-type {\n",
       "        vertical-align: middle;\n",
       "    }\n",
       "\n",
       "    .dataframe tbody tr th {\n",
       "        vertical-align: top;\n",
       "    }\n",
       "\n",
       "    .dataframe thead th {\n",
       "        text-align: right;\n",
       "    }\n",
       "</style>\n",
       "<table border=\"1\" class=\"dataframe\">\n",
       "  <thead>\n",
       "    <tr style=\"text-align: right;\">\n",
       "      <th></th>\n",
       "      <th>id</th>\n",
       "      <th>name</th>\n",
       "      <th>status</th>\n",
       "      <th>numOfLeads</th>\n",
       "      <th>numOfInvitesSent</th>\n",
       "      <th>numOfInvitesAccepted</th>\n",
       "      <th>numOfRepliesReceived</th>\n",
       "      <th>userId</th>\n",
       "      <th>useFirstName</th>\n",
       "      <th>deleted</th>\n",
       "      <th>...</th>\n",
       "      <th>secondFollowUpsSent</th>\n",
       "      <th>invitesWithdrawn</th>\n",
       "      <th>createdAt</th>\n",
       "      <th>updatedAt</th>\n",
       "      <th>thirdFollowUpsSent</th>\n",
       "      <th>fourthFollowUpsSent</th>\n",
       "      <th>fifthFollowUpsSent</th>\n",
       "      <th>sixthFollowUpsSent</th>\n",
       "      <th>type</th>\n",
       "      <th>useScraperAccounts</th>\n",
       "    </tr>\n",
       "  </thead>\n",
       "  <tbody>\n",
       "    <tr>\n",
       "      <th>0</th>\n",
       "      <td>169</td>\n",
       "      <td>Jennings-Scott Walker-Molina</td>\n",
       "      <td>STOPPED</td>\n",
       "      <td>0</td>\n",
       "      <td>0</td>\n",
       "      <td>0</td>\n",
       "      <td>0</td>\n",
       "      <td>4</td>\n",
       "      <td>f</td>\n",
       "      <td>f</td>\n",
       "      <td>...</td>\n",
       "      <td>0</td>\n",
       "      <td>0</td>\n",
       "      <td>2023-09-29 14:34:46.105+00</td>\n",
       "      <td>2023-10-04 08:01:25.656+00</td>\n",
       "      <td>0</td>\n",
       "      <td>0</td>\n",
       "      <td>0</td>\n",
       "      <td>0</td>\n",
       "      <td>EmailTargetMarket</td>\n",
       "      <td>t</td>\n",
       "    </tr>\n",
       "  </tbody>\n",
       "</table>\n",
       "<p>1 rows × 24 columns</p>\n",
       "</div>"
      ],
      "text/plain": [
       "    id                          name   status  numOfLeads  numOfInvitesSent  \\\n",
       "0  169  Jennings-Scott Walker-Molina  STOPPED           0                 0   \n",
       "\n",
       "   numOfInvitesAccepted  numOfRepliesReceived  userId useFirstName deleted  \\\n",
       "0                     0                     0       4            f       f   \n",
       "\n",
       "   ... secondFollowUpsSent  invitesWithdrawn                   createdAt  \\\n",
       "0  ...                   0                 0  2023-09-29 14:34:46.105+00   \n",
       "\n",
       "                    updatedAt  thirdFollowUpsSent  fourthFollowUpsSent  \\\n",
       "0  2023-10-04 08:01:25.656+00                   0                    0   \n",
       "\n",
       "  fifthFollowUpsSent sixthFollowUpsSent               type  useScraperAccounts  \n",
       "0                  0                  0  EmailTargetMarket                   t  \n",
       "\n",
       "[1 rows x 24 columns]"
      ]
     },
     "execution_count": 43,
     "metadata": {},
     "output_type": "execute_result"
    }
   ],
   "source": [
    "campaigns_df = pd.read_csv(os.path.join('dataset', 'actual', 'Campaigns.csv'))\n",
    "\n",
    "campaigns_df.head(n=1)"
   ]
  },
  {
   "cell_type": "code",
   "execution_count": 44,
   "metadata": {},
   "outputs": [
    {
     "name": "stdout",
     "output_type": "stream",
     "text": [
      "<class 'pandas.core.frame.DataFrame'>\n",
      "RangeIndex: 146 entries, 0 to 145\n",
      "Data columns (total 24 columns):\n",
      " #   Column                   Non-Null Count  Dtype \n",
      "---  ------                   --------------  ----- \n",
      " 0   id                       146 non-null    int64 \n",
      " 1   name                     146 non-null    object\n",
      " 2   status                   146 non-null    object\n",
      " 3   numOfLeads               146 non-null    int64 \n",
      " 4   numOfInvitesSent         146 non-null    int64 \n",
      " 5   numOfInvitesAccepted     146 non-null    int64 \n",
      " 6   numOfRepliesReceived     146 non-null    int64 \n",
      " 7   userId                   146 non-null    int64 \n",
      " 8   useFirstName             146 non-null    object\n",
      " 9   deleted                  146 non-null    object\n",
      " 10  lastScheduledToScrapeAt  128 non-null    object\n",
      " 11  minimumInvites           146 non-null    int64 \n",
      " 12  maximumInvites           146 non-null    int64 \n",
      " 13  firstFollowUpsSent       146 non-null    int64 \n",
      " 14  secondFollowUpsSent      146 non-null    int64 \n",
      " 15  invitesWithdrawn         146 non-null    int64 \n",
      " 16  createdAt                146 non-null    object\n",
      " 17  updatedAt                146 non-null    object\n",
      " 18  thirdFollowUpsSent       146 non-null    int64 \n",
      " 19  fourthFollowUpsSent      146 non-null    int64 \n",
      " 20  fifthFollowUpsSent       146 non-null    int64 \n",
      " 21  sixthFollowUpsSent       146 non-null    int64 \n",
      " 22  type                     146 non-null    object\n",
      " 23  useScraperAccounts       146 non-null    object\n",
      "dtypes: int64(15), object(9)\n",
      "memory usage: 27.5+ KB\n",
      "None\n",
      "               id    numOfLeads  numOfInvitesSent  numOfInvitesAccepted  \\\n",
      "count  146.000000  1.460000e+02        146.000000            146.000000   \n",
      "mean    91.260274  2.928707e+05        313.321918             81.917808   \n",
      "std     47.121714  3.524320e+06        344.069819            110.055566   \n",
      "min      1.000000  0.000000e+00          0.000000              0.000000   \n",
      "25%     54.250000  5.300000e+01         18.000000              0.750000   \n",
      "50%     91.500000  4.080000e+02        224.500000             48.000000   \n",
      "75%    130.750000  8.615000e+02        477.250000            124.000000   \n",
      "max    169.000000  4.258569e+07       2596.000000            769.000000   \n",
      "\n",
      "       numOfRepliesReceived      userId  minimumInvites  maximumInvites  \\\n",
      "count            146.000000  146.000000      146.000000      146.000000   \n",
      "mean              45.267123   18.602740        6.267123       11.938356   \n",
      "std               66.371399   15.689434        7.629608       10.930011   \n",
      "min                0.000000    4.000000        1.000000        1.000000   \n",
      "25%                1.500000    5.000000        2.250000        7.000000   \n",
      "50%               20.500000   14.000000        5.000000       10.000000   \n",
      "75%               68.500000   27.750000        7.000000       14.000000   \n",
      "max              558.000000   63.000000       40.000000       60.000000   \n",
      "\n",
      "       firstFollowUpsSent  secondFollowUpsSent  invitesWithdrawn  \\\n",
      "count          146.000000           146.000000        146.000000   \n",
      "mean            46.130137            37.500000        174.876712   \n",
      "std             66.864068            57.902683        216.286429   \n",
      "min              0.000000             0.000000          0.000000   \n",
      "25%              0.000000             0.000000          0.000000   \n",
      "50%             29.000000            19.500000        118.000000   \n",
      "75%             66.750000            50.000000        284.000000   \n",
      "max            588.000000           406.000000       1480.000000   \n",
      "\n",
      "       thirdFollowUpsSent  fourthFollowUpsSent  fifthFollowUpsSent  \\\n",
      "count          146.000000           146.000000          146.000000   \n",
      "mean             8.787671             2.445205            0.130137   \n",
      "std             28.334750             9.800092            1.572451   \n",
      "min              0.000000             0.000000            0.000000   \n",
      "25%              0.000000             0.000000            0.000000   \n",
      "50%              0.000000             0.000000            0.000000   \n",
      "75%              0.000000             0.000000            0.000000   \n",
      "max            212.000000            55.000000           19.000000   \n",
      "\n",
      "       sixthFollowUpsSent  \n",
      "count               146.0  \n",
      "mean                  0.0  \n",
      "std                   0.0  \n",
      "min                   0.0  \n",
      "25%                   0.0  \n",
      "50%                   0.0  \n",
      "75%                   0.0  \n",
      "max                   0.0  \n",
      "id                         146\n",
      "name                       146\n",
      "status                       2\n",
      "numOfLeads                 109\n",
      "numOfInvitesSent           108\n",
      "numOfInvitesAccepted        89\n",
      "numOfRepliesReceived        77\n",
      "userId                      36\n",
      "useFirstName                 2\n",
      "deleted                      2\n",
      "lastScheduledToScrapeAt    128\n",
      "minimumInvites              15\n",
      "maximumInvites              21\n",
      "firstFollowUpsSent          74\n",
      "secondFollowUpsSent         68\n",
      "invitesWithdrawn            95\n",
      "createdAt                  146\n",
      "updatedAt                  146\n",
      "thirdFollowUpsSent          21\n",
      "fourthFollowUpsSent         12\n",
      "fifthFollowUpsSent           2\n",
      "sixthFollowUpsSent           1\n",
      "type                         4\n",
      "useScraperAccounts           2\n",
      "dtype: int64\n"
     ]
    }
   ],
   "source": [
    "print(campaigns_df.info())\n",
    "print(campaigns_df.describe())\n",
    "print(campaigns_df.nunique())"
   ]
  },
  {
   "cell_type": "code",
   "execution_count": 45,
   "metadata": {},
   "outputs": [
    {
     "data": {
      "image/png": "[encoded data removed]",
      "text/plain": [
       "<Figure size 640x480 with 1 Axes>"
      ]
     },
     "metadata": {},
     "output_type": "display_data"
    }
   ],
   "source": [
    "sns.countplot(x='type', data=campaigns_df)\n",
    "plt.xticks(rotation=90) # type names are a bit long\n",
    "plt.show()"
   ]
  },
  {
   "cell_type": "markdown",
   "metadata": {},
   "source": [
    "The plot above shows that the highest amounts of campaigns is of type `OutreachSalesNav`.\n",
    "We will only consider that and ignore the rest."
   ]
  },
  {
   "cell_type": "markdown",
   "metadata": {},
   "source": [
    "## 2. Leads"
   ]
  },
  {
   "cell_type": "code",
   "execution_count": 46,
   "metadata": {},
   "outputs": [
    {
     "name": "stderr",
     "output_type": "stream",
     "text": [
      "/tmp/ipykernel_1047103/881938342.py:1: DtypeWarning: Columns (23,31,32) have mixed types. Specify dtype option on import or set low_memory=False.\n",
      "  leads_df = pd.read_csv(os.path.join('dataset', 'actual', 'Leads.csv'))\n"
     ]
    },
    {
     "data": {
      "text/html": [
       "<div>\n",
       "<style scoped>\n",
       "    .dataframe tbody tr th:only-of-type {\n",
       "        vertical-align: middle;\n",
       "    }\n",
       "\n",
       "    .dataframe tbody tr th {\n",
       "        vertical-align: top;\n",
       "    }\n",
       "\n",
       "    .dataframe thead th {\n",
       "        text-align: right;\n",
       "    }\n",
       "</style>\n",
       "<table border=\"1\" class=\"dataframe\">\n",
       "  <thead>\n",
       "    <tr style=\"text-align: right;\">\n",
       "      <th></th>\n",
       "      <th>id</th>\n",
       "      <th>userId</th>\n",
       "      <th>campaignId</th>\n",
       "      <th>name</th>\n",
       "      <th>firstName</th>\n",
       "      <th>lastName</th>\n",
       "      <th>gender</th>\n",
       "      <th>email</th>\n",
       "      <th>companyName</th>\n",
       "      <th>title</th>\n",
       "      <th>...</th>\n",
       "      <th>fifthFollowUpSentAt</th>\n",
       "      <th>sixthFollowUpSentAt</th>\n",
       "      <th>emailFollowUpThreadId</th>\n",
       "      <th>firstEmailFollowUpSentAt</th>\n",
       "      <th>secondEmailFollowUpSentAt</th>\n",
       "      <th>existingMessagesCount</th>\n",
       "      <th>inviteAttempts</th>\n",
       "      <th>skip</th>\n",
       "      <th>cdsEmployeeId</th>\n",
       "      <th>skipReason</th>\n",
       "    </tr>\n",
       "  </thead>\n",
       "  <tbody>\n",
       "    <tr>\n",
       "      <th>0</th>\n",
       "      <td>42882</td>\n",
       "      <td>4</td>\n",
       "      <td>150</td>\n",
       "      <td>Tyrus Parker</td>\n",
       "      <td>Angella</td>\n",
       "      <td>Zemlak</td>\n",
       "      <td>male</td>\n",
       "      <td>ab@alexbetz.de</td>\n",
       "      <td>PATRIZIA AG</td>\n",
       "      <td>-</td>\n",
       "      <td>...</td>\n",
       "      <td>NaN</td>\n",
       "      <td>NaN</td>\n",
       "      <td>NaN</td>\n",
       "      <td>NaN</td>\n",
       "      <td>NaN</td>\n",
       "      <td>NaN</td>\n",
       "      <td>0</td>\n",
       "      <td>f</td>\n",
       "      <td>NaN</td>\n",
       "      <td>NaN</td>\n",
       "    </tr>\n",
       "  </tbody>\n",
       "</table>\n",
       "<p>1 rows × 33 columns</p>\n",
       "</div>"
      ],
      "text/plain": [
       "      id  userId  campaignId          name firstName lastName gender  \\\n",
       "0  42882       4         150  Tyrus Parker   Angella   Zemlak   male   \n",
       "\n",
       "            email  companyName title  ... fifthFollowUpSentAt  \\\n",
       "0  ab@alexbetz.de  PATRIZIA AG     -  ...                 NaN   \n",
       "\n",
       "  sixthFollowUpSentAt emailFollowUpThreadId firstEmailFollowUpSentAt  \\\n",
       "0                 NaN                   NaN                      NaN   \n",
       "\n",
       "  secondEmailFollowUpSentAt existingMessagesCount inviteAttempts skip  \\\n",
       "0                       NaN                   NaN              0    f   \n",
       "\n",
       "  cdsEmployeeId skipReason  \n",
       "0           NaN        NaN  \n",
       "\n",
       "[1 rows x 33 columns]"
      ]
     },
     "execution_count": 46,
     "metadata": {},
     "output_type": "execute_result"
    }
   ],
   "source": [
    "leads_df = pd.read_csv(os.path.join('dataset', 'actual', 'Leads.csv'))\n",
    "\n",
    "leads_df.head(n=1)"
   ]
  },
  {
   "cell_type": "code",
   "execution_count": 47,
   "metadata": {},
   "outputs": [
    {
     "name": "stdout",
     "output_type": "stream",
     "text": [
      "<class 'pandas.core.frame.DataFrame'>\n",
      "RangeIndex: 59609 entries, 0 to 59608\n",
      "Data columns (total 33 columns):\n",
      " #   Column                     Non-Null Count  Dtype  \n",
      "---  ------                     --------------  -----  \n",
      " 0   id                         59609 non-null  int64  \n",
      " 1   userId                     59609 non-null  int64  \n",
      " 2   campaignId                 59609 non-null  int64  \n",
      " 3   name                       59609 non-null  object \n",
      " 4   firstName                  59609 non-null  object \n",
      " 5   lastName                   59609 non-null  object \n",
      " 6   gender                     59609 non-null  object \n",
      " 7   email                      39686 non-null  object \n",
      " 8   companyName                59609 non-null  object \n",
      " 9   title                      59609 non-null  object \n",
      " 10  city                       59609 non-null  object \n",
      " 11  country                    59609 non-null  object \n",
      " 12  location                   59609 non-null  object \n",
      " 13  inviteSentAt               42112 non-null  object \n",
      " 14  inviteAccepted             59609 non-null  object \n",
      " 15  inviteWithdrawnAt          26600 non-null  object \n",
      " 16  firstFollowUpSentAt        7146 non-null   object \n",
      " 17  secondFollowUpSentAt       4780 non-null   object \n",
      " 18  replied                    59609 non-null  object \n",
      " 19  createdAt                  59609 non-null  object \n",
      " 20  updatedAt                  59609 non-null  object \n",
      " 21  thirdFollowUpSentAt        837 non-null    object \n",
      " 22  fourthFollowUpSentAt       353 non-null    object \n",
      " 23  fifthFollowUpSentAt        19 non-null     object \n",
      " 24  sixthFollowUpSentAt        0 non-null      float64\n",
      " 25  emailFollowUpThreadId      0 non-null      float64\n",
      " 26  firstEmailFollowUpSentAt   0 non-null      float64\n",
      " 27  secondEmailFollowUpSentAt  0 non-null      float64\n",
      " 28  existingMessagesCount      35700 non-null  float64\n",
      " 29  inviteAttempts             59609 non-null  int64  \n",
      " 30  skip                       59609 non-null  object \n",
      " 31  cdsEmployeeId              577 non-null    object \n",
      " 32  skipReason                 254 non-null    object \n",
      "dtypes: float64(5), int64(4), object(24)\n",
      "memory usage: 15.0+ MB\n",
      "None\n",
      "                 id        userId    campaignId  sixthFollowUpSentAt  \\\n",
      "count  59609.000000  59609.000000  59609.000000                  0.0   \n",
      "mean   26923.844872     18.410928     92.944337                  NaN   \n",
      "std    17907.253655     16.941690     46.989320                  NaN   \n",
      "min        1.000000      4.000000      1.000000                  NaN   \n",
      "25%     9059.000000      5.000000     56.000000                  NaN   \n",
      "50%    26734.000000     13.000000     97.000000                  NaN   \n",
      "75%    42288.000000     26.000000    136.000000                  NaN   \n",
      "max    58617.000000     63.000000    167.000000                  NaN   \n",
      "\n",
      "       emailFollowUpThreadId  firstEmailFollowUpSentAt  \\\n",
      "count                    0.0                       0.0   \n",
      "mean                     NaN                       NaN   \n",
      "std                      NaN                       NaN   \n",
      "min                      NaN                       NaN   \n",
      "25%                      NaN                       NaN   \n",
      "50%                      NaN                       NaN   \n",
      "75%                      NaN                       NaN   \n",
      "max                      NaN                       NaN   \n",
      "\n",
      "       secondEmailFollowUpSentAt  existingMessagesCount  inviteAttempts  \n",
      "count                        0.0                35700.0    59609.000000  \n",
      "mean                         NaN                    0.0        0.049892  \n",
      "std                          NaN                    0.0        0.333397  \n",
      "min                          NaN                    0.0        0.000000  \n",
      "25%                          NaN                    0.0        0.000000  \n",
      "50%                          NaN                    0.0        0.000000  \n",
      "75%                          NaN                    0.0        0.000000  \n",
      "max                          NaN                    0.0        3.000000  \n",
      "id                           53616\n",
      "userId                          36\n",
      "campaignId                     131\n",
      "name                         55984\n",
      "firstName                      999\n",
      "lastName                       472\n",
      "gender                           2\n",
      "email                         3529\n",
      "companyName                  37470\n",
      "title                        22876\n",
      "city                          5319\n",
      "country                        474\n",
      "location                      7234\n",
      "inviteSentAt                 39519\n",
      "inviteAccepted                   2\n",
      "inviteWithdrawnAt            25123\n",
      "firstFollowUpSentAt           6856\n",
      "secondFollowUpSentAt          4615\n",
      "replied                          2\n",
      "createdAt                    55904\n",
      "updatedAt                    54712\n",
      "thirdFollowUpSentAt            837\n",
      "fourthFollowUpSentAt           353\n",
      "fifthFollowUpSentAt             19\n",
      "sixthFollowUpSentAt              0\n",
      "emailFollowUpThreadId            0\n",
      "firstEmailFollowUpSentAt         0\n",
      "secondEmailFollowUpSentAt        0\n",
      "existingMessagesCount            1\n",
      "inviteAttempts                   4\n",
      "skip                             2\n",
      "cdsEmployeeId                  577\n",
      "skipReason                       3\n",
      "dtype: int64\n"
     ]
    }
   ],
   "source": [
    "print(leads_df.info())\n",
    "print(leads_df.describe())\n",
    "print(leads_df.nunique())"
   ]
  },
  {
   "cell_type": "markdown",
   "metadata": {},
   "source": [
    "## 3. Messages"
   ]
  },
  {
   "cell_type": "code",
   "execution_count": 48,
   "metadata": {},
   "outputs": [
    {
     "data": {
      "text/html": [
       "<div>\n",
       "<style scoped>\n",
       "    .dataframe tbody tr th:only-of-type {\n",
       "        vertical-align: middle;\n",
       "    }\n",
       "\n",
       "    .dataframe tbody tr th {\n",
       "        vertical-align: top;\n",
       "    }\n",
       "\n",
       "    .dataframe thead th {\n",
       "        text-align: right;\n",
       "    }\n",
       "</style>\n",
       "<table border=\"1\" class=\"dataframe\">\n",
       "  <thead>\n",
       "    <tr style=\"text-align: right;\">\n",
       "      <th></th>\n",
       "      <th>order</th>\n",
       "      <th>campaignId</th>\n",
       "      <th>name</th>\n",
       "      <th>content</th>\n",
       "      <th>maleSalutation</th>\n",
       "      <th>femaleSalutation</th>\n",
       "      <th>interval</th>\n",
       "      <th>createdAt</th>\n",
       "      <th>updatedAt</th>\n",
       "      <th>type</th>\n",
       "    </tr>\n",
       "  </thead>\n",
       "  <tbody>\n",
       "    <tr>\n",
       "      <th>0</th>\n",
       "      <td>0</td>\n",
       "      <td>124</td>\n",
       "      <td>Initial contact message</td>\n",
       "      <td>{{ salutation }} {{ first_name }}\\nin den aktu...</td>\n",
       "      <td>Moin</td>\n",
       "      <td>Moin</td>\n",
       "      <td>NaN</td>\n",
       "      <td>2023-02-01 14:47:41.448+00</td>\n",
       "      <td>2023-02-01 14:47:41.448+00</td>\n",
       "      <td>LINKEDIN</td>\n",
       "    </tr>\n",
       "  </tbody>\n",
       "</table>\n",
       "</div>"
      ],
      "text/plain": [
       "   order  campaignId                     name  \\\n",
       "0      0         124  Initial contact message   \n",
       "\n",
       "                                             content maleSalutation  \\\n",
       "0  {{ salutation }} {{ first_name }}\\nin den aktu...           Moin   \n",
       "\n",
       "  femaleSalutation  interval                   createdAt  \\\n",
       "0             Moin       NaN  2023-02-01 14:47:41.448+00   \n",
       "\n",
       "                    updatedAt      type  \n",
       "0  2023-02-01 14:47:41.448+00  LINKEDIN  "
      ]
     },
     "execution_count": 48,
     "metadata": {},
     "output_type": "execute_result"
    }
   ],
   "source": [
    "messages_df = pd.read_csv(os.path.join('dataset', 'actual', 'Messages.csv'))\n",
    "\n",
    "messages_df.head(n=1)"
   ]
  },
  {
   "cell_type": "code",
   "execution_count": 49,
   "metadata": {},
   "outputs": [
    {
     "name": "stdout",
     "output_type": "stream",
     "text": [
      "<class 'pandas.core.frame.DataFrame'>\n",
      "RangeIndex: 434 entries, 0 to 433\n",
      "Data columns (total 10 columns):\n",
      " #   Column            Non-Null Count  Dtype  \n",
      "---  ------            --------------  -----  \n",
      " 0   order             434 non-null    int64  \n",
      " 1   campaignId        434 non-null    int64  \n",
      " 2   name              434 non-null    object \n",
      " 3   content           434 non-null    object \n",
      " 4   maleSalutation    364 non-null    object \n",
      " 5   femaleSalutation  364 non-null    object \n",
      " 6   interval          282 non-null    float64\n",
      " 7   createdAt         434 non-null    object \n",
      " 8   updatedAt         434 non-null    object \n",
      " 9   type              434 non-null    object \n",
      "dtypes: float64(1), int64(2), object(7)\n",
      "memory usage: 34.0+ KB\n",
      "None\n",
      "            order  campaignId    interval\n",
      "count  434.000000  434.000000  282.000000\n",
      "mean     1.126728   93.029954    4.141844\n",
      "std      1.078908   48.827325    6.520792\n",
      "min      0.000000    1.000000    1.000000\n",
      "25%      0.000000   54.250000    1.000000\n",
      "50%      1.000000   91.000000    1.000000\n",
      "75%      2.000000  139.000000    5.000000\n",
      "max      5.000000  169.000000   45.000000\n",
      "order                 6\n",
      "campaignId          144\n",
      "name                 10\n",
      "content             378\n",
      "maleSalutation       24\n",
      "femaleSalutation     25\n",
      "interval             14\n",
      "createdAt           132\n",
      "updatedAt           132\n",
      "type                  3\n",
      "dtype: int64\n"
     ]
    }
   ],
   "source": [
    "print(messages_df.info())\n",
    "print(messages_df.describe())\n",
    "print(messages_df.nunique())"
   ]
  },
  {
   "cell_type": "code",
   "execution_count": 50,
   "metadata": {},
   "outputs": [
    {
     "data": {
      "image/png": "[encoded data removed]",
      "text/plain": [
       "<Figure size 640x480 with 1 Axes>"
      ]
     },
     "metadata": {},
     "output_type": "display_data"
    }
   ],
   "source": [
    "sns.countplot(x='type', data=messages_df)\n",
    "plt.show()"
   ]
  },
  {
   "cell_type": "markdown",
   "metadata": {},
   "source": [
    "The email type messages are for the email campaigns and should be dropped.\n",
    "\n",
    "The `LinkedIn` type messages are from our `OutreachSalesNav` but some of them can also be from the `ExistingSalesNav`. A cleanup is needed to only keep messages for the campaigns\n",
    "that are not dropped."
   ]
  },
  {
   "cell_type": "markdown",
   "metadata": {},
   "source": [
    "## 4. Records"
   ]
  },
  {
   "cell_type": "code",
   "execution_count": 51,
   "metadata": {},
   "outputs": [
    {
     "data": {
      "text/html": [
       "<div>\n",
       "<style scoped>\n",
       "    .dataframe tbody tr th:only-of-type {\n",
       "        vertical-align: middle;\n",
       "    }\n",
       "\n",
       "    .dataframe tbody tr th {\n",
       "        vertical-align: top;\n",
       "    }\n",
       "\n",
       "    .dataframe thead th {\n",
       "        text-align: right;\n",
       "    }\n",
       "</style>\n",
       "<table border=\"1\" class=\"dataframe\">\n",
       "  <thead>\n",
       "    <tr style=\"text-align: right;\">\n",
       "      <th></th>\n",
       "      <th>id</th>\n",
       "      <th>campaignId</th>\n",
       "      <th>userId</th>\n",
       "      <th>status</th>\n",
       "      <th>numOfInvitesSent</th>\n",
       "      <th>numOfInvitesAccepted</th>\n",
       "      <th>numOfRepliesReceived</th>\n",
       "      <th>firstFollowUpsSent</th>\n",
       "      <th>secondFollowUpsSent</th>\n",
       "      <th>invitesWithdrawn</th>\n",
       "      <th>minimumInvites</th>\n",
       "      <th>maximumInvites</th>\n",
       "      <th>createdAt</th>\n",
       "      <th>updatedAt</th>\n",
       "      <th>thirdFollowUpsSent</th>\n",
       "      <th>fourthFollowUpsSent</th>\n",
       "      <th>fifthFollowUpsSent</th>\n",
       "      <th>sixthFollowUpsSent</th>\n",
       "    </tr>\n",
       "  </thead>\n",
       "  <tbody>\n",
       "    <tr>\n",
       "      <th>0</th>\n",
       "      <td>1</td>\n",
       "      <td>54</td>\n",
       "      <td>4</td>\n",
       "      <td>ACTIVE</td>\n",
       "      <td>507</td>\n",
       "      <td>124</td>\n",
       "      <td>68</td>\n",
       "      <td>32</td>\n",
       "      <td>14</td>\n",
       "      <td>117</td>\n",
       "      <td>8</td>\n",
       "      <td>14</td>\n",
       "      <td>2022-05-09 19:00:00.226+00</td>\n",
       "      <td>2022-05-09 19:00:00.226+00</td>\n",
       "      <td>0</td>\n",
       "      <td>0</td>\n",
       "      <td>0</td>\n",
       "      <td>0</td>\n",
       "    </tr>\n",
       "  </tbody>\n",
       "</table>\n",
       "</div>"
      ],
      "text/plain": [
       "   id  campaignId  userId  status  numOfInvitesSent  numOfInvitesAccepted  \\\n",
       "0   1          54       4  ACTIVE               507                   124   \n",
       "\n",
       "   numOfRepliesReceived  firstFollowUpsSent  secondFollowUpsSent  \\\n",
       "0                    68                  32                   14   \n",
       "\n",
       "   invitesWithdrawn  minimumInvites  maximumInvites  \\\n",
       "0               117               8              14   \n",
       "\n",
       "                    createdAt                   updatedAt  thirdFollowUpsSent  \\\n",
       "0  2022-05-09 19:00:00.226+00  2022-05-09 19:00:00.226+00                   0   \n",
       "\n",
       "   fourthFollowUpsSent  fifthFollowUpsSent  sixthFollowUpsSent  \n",
       "0                    0                   0                   0  "
      ]
     },
     "execution_count": 51,
     "metadata": {},
     "output_type": "execute_result"
    }
   ],
   "source": [
    "records_df = pd.read_csv(os.path.join('dataset', 'actual', 'Records.csv'))\n",
    "\n",
    "records_df.head(n=1)"
   ]
  },
  {
   "cell_type": "code",
   "execution_count": 52,
   "metadata": {},
   "outputs": [
    {
     "name": "stdout",
     "output_type": "stream",
     "text": [
      "<class 'pandas.core.frame.DataFrame'>\n",
      "RangeIndex: 63638 entries, 0 to 63637\n",
      "Data columns (total 18 columns):\n",
      " #   Column                Non-Null Count  Dtype \n",
      "---  ------                --------------  ----- \n",
      " 0   id                    63638 non-null  int64 \n",
      " 1   campaignId            63638 non-null  int64 \n",
      " 2   userId                63638 non-null  int64 \n",
      " 3   status                63638 non-null  object\n",
      " 4   numOfInvitesSent      63638 non-null  int64 \n",
      " 5   numOfInvitesAccepted  63638 non-null  int64 \n",
      " 6   numOfRepliesReceived  63638 non-null  int64 \n",
      " 7   firstFollowUpsSent    63638 non-null  int64 \n",
      " 8   secondFollowUpsSent   63638 non-null  int64 \n",
      " 9   invitesWithdrawn      63638 non-null  int64 \n",
      " 10  minimumInvites        63638 non-null  int64 \n",
      " 11  maximumInvites        63638 non-null  int64 \n",
      " 12  createdAt             63638 non-null  object\n",
      " 13  updatedAt             63638 non-null  object\n",
      " 14  thirdFollowUpsSent    63638 non-null  int64 \n",
      " 15  fourthFollowUpsSent   63638 non-null  int64 \n",
      " 16  fifthFollowUpsSent    63638 non-null  int64 \n",
      " 17  sixthFollowUpsSent    63638 non-null  int64 \n",
      "dtypes: int64(15), object(3)\n",
      "memory usage: 8.7+ MB\n",
      "None\n",
      "                 id    campaignId        userId  numOfInvitesSent  \\\n",
      "count  63638.000000  63638.000000  63638.000000      63638.000000   \n",
      "mean   31868.267230     74.586599     18.015022        264.946086   \n",
      "std    18379.581423     40.175377     13.266075        274.536153   \n",
      "min        1.000000      1.000000      4.000000          0.000000   \n",
      "25%    15963.250000     43.000000      6.000000         27.000000   \n",
      "50%    31874.500000     73.000000     17.000000        176.000000   \n",
      "75%    47783.750000    103.000000     27.000000        428.000000   \n",
      "max    63693.000000    169.000000     63.000000       2596.000000   \n",
      "\n",
      "       numOfInvitesAccepted  numOfRepliesReceived  firstFollowUpsSent  \\\n",
      "count          63638.000000          63638.000000        63638.000000   \n",
      "mean              72.392454             41.905088           36.877840   \n",
      "std               94.619321             62.377489           44.641903   \n",
      "min                0.000000              0.000000            0.000000   \n",
      "25%                6.000000              3.000000            0.000000   \n",
      "50%               45.000000             18.000000           24.000000   \n",
      "75%              120.000000             61.000000           57.000000   \n",
      "max              769.000000            558.000000          587.000000   \n",
      "\n",
      "       secondFollowUpsSent  invitesWithdrawn  minimumInvites  maximumInvites  \\\n",
      "count         63638.000000      63638.000000    63638.000000    63638.000000   \n",
      "mean             29.548194        152.776297        4.704940       10.038169   \n",
      "std              41.283899        188.155133        4.544228        6.604187   \n",
      "min               0.000000          0.000000        0.000000        1.000000   \n",
      "25%               0.000000          0.000000        2.000000        6.000000   \n",
      "50%              17.000000         89.000000        4.000000        9.000000   \n",
      "75%              44.000000        260.000000        6.000000       12.000000   \n",
      "max             406.000000       1480.000000       40.000000       60.000000   \n",
      "\n",
      "       thirdFollowUpsSent  fourthFollowUpsSent  fifthFollowUpsSent  \\\n",
      "count        63638.000000         63638.000000        63638.000000   \n",
      "mean             3.534193             1.080832            0.065935   \n",
      "std             17.592105             6.248717            1.085769   \n",
      "min              0.000000             0.000000            0.000000   \n",
      "25%              0.000000             0.000000            0.000000   \n",
      "50%              0.000000             0.000000            0.000000   \n",
      "75%              0.000000             0.000000            0.000000   \n",
      "max            212.000000            55.000000           19.000000   \n",
      "\n",
      "       sixthFollowUpsSent  \n",
      "count             63638.0  \n",
      "mean                  0.0  \n",
      "std                   0.0  \n",
      "min                   0.0  \n",
      "25%                   0.0  \n",
      "50%                   0.0  \n",
      "75%                   0.0  \n",
      "max                   0.0  \n",
      "id                      63638\n",
      "campaignId                146\n",
      "userId                     36\n",
      "status                      2\n",
      "numOfInvitesSent         1045\n",
      "numOfInvitesAccepted      462\n",
      "numOfRepliesReceived      249\n",
      "firstFollowUpsSent        346\n",
      "secondFollowUpsSent       181\n",
      "invitesWithdrawn          709\n",
      "minimumInvites             17\n",
      "maximumInvites             22\n",
      "createdAt               59108\n",
      "updatedAt               59107\n",
      "thirdFollowUpsSent        111\n",
      "fourthFollowUpsSent        54\n",
      "fifthFollowUpsSent         12\n",
      "sixthFollowUpsSent          1\n",
      "dtype: int64\n"
     ]
    }
   ],
   "source": [
    "print(records_df.info())\n",
    "print(records_df.describe())\n",
    "print(records_df.nunique())"
   ]
  },
  {
   "cell_type": "markdown",
   "metadata": {},
   "source": [
    "## 5. Users"
   ]
  },
  {
   "cell_type": "code",
   "execution_count": 53,
   "metadata": {},
   "outputs": [
    {
     "data": {
      "text/html": [
       "<div>\n",
       "<style scoped>\n",
       "    .dataframe tbody tr th:only-of-type {\n",
       "        vertical-align: middle;\n",
       "    }\n",
       "\n",
       "    .dataframe tbody tr th {\n",
       "        vertical-align: top;\n",
       "    }\n",
       "\n",
       "    .dataframe thead th {\n",
       "        text-align: right;\n",
       "    }\n",
       "</style>\n",
       "<table border=\"1\" class=\"dataframe\">\n",
       "  <thead>\n",
       "    <tr style=\"text-align: right;\">\n",
       "      <th></th>\n",
       "      <th>id</th>\n",
       "      <th>companyName</th>\n",
       "      <th>email</th>\n",
       "      <th>role</th>\n",
       "      <th>userBoughtCredit</th>\n",
       "      <th>userUsedCredit</th>\n",
       "      <th>createdAt</th>\n",
       "      <th>updatedAt</th>\n",
       "    </tr>\n",
       "  </thead>\n",
       "  <tbody>\n",
       "    <tr>\n",
       "      <th>0</th>\n",
       "      <td>57</td>\n",
       "      <td>Stone, Fitzgerald and Aguilar</td>\n",
       "      <td>kimberlyjohnson@kirk.net</td>\n",
       "      <td>User</td>\n",
       "      <td>1000</td>\n",
       "      <td>572</td>\n",
       "      <td>2022-11-23 11:02:44.495+00</td>\n",
       "      <td>2023-05-15 11:53:02.237+00</td>\n",
       "    </tr>\n",
       "  </tbody>\n",
       "</table>\n",
       "</div>"
      ],
      "text/plain": [
       "   id                    companyName                     email  role  \\\n",
       "0  57  Stone, Fitzgerald and Aguilar  kimberlyjohnson@kirk.net  User   \n",
       "\n",
       "   userBoughtCredit  userUsedCredit                   createdAt  \\\n",
       "0              1000             572  2022-11-23 11:02:44.495+00   \n",
       "\n",
       "                    updatedAt  \n",
       "0  2023-05-15 11:53:02.237+00  "
      ]
     },
     "execution_count": 53,
     "metadata": {},
     "output_type": "execute_result"
    }
   ],
   "source": [
    "users_df = pd.read_csv(os.path.join('dataset', 'actual', 'Users.csv'))\n",
    "\n",
    "users_df.head(n=1)"
   ]
  },
  {
   "cell_type": "code",
   "execution_count": 54,
   "metadata": {},
   "outputs": [
    {
     "name": "stdout",
     "output_type": "stream",
     "text": [
      "<class 'pandas.core.frame.DataFrame'>\n",
      "RangeIndex: 37 entries, 0 to 36\n",
      "Data columns (total 8 columns):\n",
      " #   Column            Non-Null Count  Dtype \n",
      "---  ------            --------------  ----- \n",
      " 0   id                37 non-null     int64 \n",
      " 1   companyName       37 non-null     object\n",
      " 2   email             37 non-null     object\n",
      " 3   role              37 non-null     object\n",
      " 4   userBoughtCredit  37 non-null     int64 \n",
      " 5   userUsedCredit    37 non-null     int64 \n",
      " 6   createdAt         37 non-null     object\n",
      " 7   updatedAt         37 non-null     object\n",
      "dtypes: int64(3), object(5)\n",
      "memory usage: 2.4+ KB\n",
      "None\n",
      "              id  userBoughtCredit  userUsedCredit\n",
      "count  37.000000         37.000000       37.000000\n",
      "mean   28.729730       1728.432432     1130.837838\n",
      "std    19.309826       1854.242831     1603.913106\n",
      "min     4.000000        500.000000        0.000000\n",
      "25%    13.000000       1000.000000      407.000000\n",
      "50%    25.000000       1000.000000      635.000000\n",
      "75%    34.000000       1650.000000     1004.000000\n",
      "max    63.000000      10000.000000     8349.000000\n",
      "id                  37\n",
      "companyName         37\n",
      "email               37\n",
      "role                 2\n",
      "userBoughtCredit    11\n",
      "userUsedCredit      37\n",
      "createdAt           37\n",
      "updatedAt           37\n",
      "dtype: int64\n"
     ]
    }
   ],
   "source": [
    "print(users_df.info())\n",
    "print(users_df.describe())\n",
    "print(users_df.nunique())"
   ]
  },
  {
   "cell_type": "markdown",
   "metadata": {},
   "source": [
    "# II. Data Preprocessing"
   ]
  },
  {
   "cell_type": "markdown",
   "metadata": {},
   "source": [
    "## 1. Campaigns"
   ]
  },
  {
   "cell_type": "markdown",
   "metadata": {},
   "source": [
    "### a. Cleaning"
   ]
  },
  {
   "cell_type": "code",
   "execution_count": 55,
   "metadata": {},
   "outputs": [],
   "source": [
    "# Only consider the type \"OutreachSalesNav\" for campaigns\n",
    "campaigns_df = campaigns_df[campaigns_df['type'] == 'OutreachSalesNav']"
   ]
  },
  {
   "cell_type": "code",
   "execution_count": 56,
   "metadata": {},
   "outputs": [],
   "source": [
    "campaigns_df = campaigns_df.drop(\n",
    "    [\n",
    "        # \"id\", this is needed since the relationship between the campaigns and the leads is based on this column\n",
    "        \"status\",\n",
    "        \"name\",\n",
    "        \"type\", # only consider the type \"OutreachSalesNav\"\n",
    "        \"useFirstName\", # deprecated, using the Message table instead\n",
    "        \"useScraperAccounts\", # scraper related\n",
    "        \"userId\",\n",
    "        \"deleted\",\n",
    "        \"lastScheduledToScrapeAt\", # scraper related\n",
    "        \"createdAt\",\n",
    "        \"updatedAt\",\n",
    "    ],\n",
    "    axis=1,\n",
    "    errors=\"ignore\",\n",
    ")"
   ]
  },
  {
   "cell_type": "markdown",
   "metadata": {},
   "source": [
    "### b. Processing"
   ]
  },
  {
   "cell_type": "code",
   "execution_count": 57,
   "metadata": {},
   "outputs": [
    {
     "name": "stdout",
     "output_type": "stream",
     "text": [
      "<class 'pandas.core.frame.DataFrame'>\n",
      "Index: 137 entries, 1 to 145\n",
      "Data columns (total 14 columns):\n",
      " #   Column                Non-Null Count  Dtype\n",
      "---  ------                --------------  -----\n",
      " 0   id                    137 non-null    int64\n",
      " 1   numOfLeads            137 non-null    int64\n",
      " 2   numOfInvitesSent      137 non-null    int64\n",
      " 3   numOfInvitesAccepted  137 non-null    int64\n",
      " 4   numOfRepliesReceived  137 non-null    int64\n",
      " 5   minimumInvites        137 non-null    int64\n",
      " 6   maximumInvites        137 non-null    int64\n",
      " 7   firstFollowUpsSent    137 non-null    int64\n",
      " 8   secondFollowUpsSent   137 non-null    int64\n",
      " 9   invitesWithdrawn      137 non-null    int64\n",
      " 10  thirdFollowUpsSent    137 non-null    int64\n",
      " 11  fourthFollowUpsSent   137 non-null    int64\n",
      " 12  fifthFollowUpsSent    137 non-null    int64\n",
      " 13  sixthFollowUpsSent    137 non-null    int64\n",
      "dtypes: int64(14)\n",
      "memory usage: 16.1 KB\n",
      "None\n"
     ]
    },
    {
     "data": {
      "text/html": [
       "<div>\n",
       "<style scoped>\n",
       "    .dataframe tbody tr th:only-of-type {\n",
       "        vertical-align: middle;\n",
       "    }\n",
       "\n",
       "    .dataframe tbody tr th {\n",
       "        vertical-align: top;\n",
       "    }\n",
       "\n",
       "    .dataframe thead th {\n",
       "        text-align: right;\n",
       "    }\n",
       "</style>\n",
       "<table border=\"1\" class=\"dataframe\">\n",
       "  <thead>\n",
       "    <tr style=\"text-align: right;\">\n",
       "      <th></th>\n",
       "      <th>id</th>\n",
       "      <th>numOfLeads</th>\n",
       "      <th>numOfInvitesSent</th>\n",
       "      <th>numOfInvitesAccepted</th>\n",
       "      <th>numOfRepliesReceived</th>\n",
       "      <th>minimumInvites</th>\n",
       "      <th>maximumInvites</th>\n",
       "      <th>firstFollowUpsSent</th>\n",
       "      <th>secondFollowUpsSent</th>\n",
       "      <th>invitesWithdrawn</th>\n",
       "      <th>thirdFollowUpsSent</th>\n",
       "      <th>fourthFollowUpsSent</th>\n",
       "      <th>fifthFollowUpsSent</th>\n",
       "      <th>sixthFollowUpsSent</th>\n",
       "    </tr>\n",
       "  </thead>\n",
       "  <tbody>\n",
       "    <tr>\n",
       "      <th>1</th>\n",
       "      <td>19</td>\n",
       "      <td>904</td>\n",
       "      <td>110</td>\n",
       "      <td>171</td>\n",
       "      <td>95</td>\n",
       "      <td>1</td>\n",
       "      <td>5</td>\n",
       "      <td>35</td>\n",
       "      <td>29</td>\n",
       "      <td>89</td>\n",
       "      <td>0</td>\n",
       "      <td>0</td>\n",
       "      <td>0</td>\n",
       "      <td>0</td>\n",
       "    </tr>\n",
       "    <tr>\n",
       "      <th>2</th>\n",
       "      <td>113</td>\n",
       "      <td>40266</td>\n",
       "      <td>2596</td>\n",
       "      <td>672</td>\n",
       "      <td>129</td>\n",
       "      <td>9</td>\n",
       "      <td>15</td>\n",
       "      <td>588</td>\n",
       "      <td>0</td>\n",
       "      <td>1480</td>\n",
       "      <td>0</td>\n",
       "      <td>0</td>\n",
       "      <td>0</td>\n",
       "      <td>0</td>\n",
       "    </tr>\n",
       "    <tr>\n",
       "      <th>3</th>\n",
       "      <td>104</td>\n",
       "      <td>163</td>\n",
       "      <td>166</td>\n",
       "      <td>74</td>\n",
       "      <td>38</td>\n",
       "      <td>3</td>\n",
       "      <td>6</td>\n",
       "      <td>25</td>\n",
       "      <td>10</td>\n",
       "      <td>145</td>\n",
       "      <td>0</td>\n",
       "      <td>0</td>\n",
       "      <td>0</td>\n",
       "      <td>0</td>\n",
       "    </tr>\n",
       "    <tr>\n",
       "      <th>4</th>\n",
       "      <td>76</td>\n",
       "      <td>635</td>\n",
       "      <td>533</td>\n",
       "      <td>45</td>\n",
       "      <td>19</td>\n",
       "      <td>3</td>\n",
       "      <td>6</td>\n",
       "      <td>38</td>\n",
       "      <td>32</td>\n",
       "      <td>467</td>\n",
       "      <td>0</td>\n",
       "      <td>0</td>\n",
       "      <td>0</td>\n",
       "      <td>0</td>\n",
       "    </tr>\n",
       "    <tr>\n",
       "      <th>5</th>\n",
       "      <td>124</td>\n",
       "      <td>0</td>\n",
       "      <td>0</td>\n",
       "      <td>0</td>\n",
       "      <td>0</td>\n",
       "      <td>3</td>\n",
       "      <td>8</td>\n",
       "      <td>0</td>\n",
       "      <td>0</td>\n",
       "      <td>0</td>\n",
       "      <td>0</td>\n",
       "      <td>0</td>\n",
       "      <td>0</td>\n",
       "      <td>0</td>\n",
       "    </tr>\n",
       "  </tbody>\n",
       "</table>\n",
       "</div>"
      ],
      "text/plain": [
       "    id  numOfLeads  numOfInvitesSent  numOfInvitesAccepted  \\\n",
       "1   19         904               110                   171   \n",
       "2  113       40266              2596                   672   \n",
       "3  104         163               166                    74   \n",
       "4   76         635               533                    45   \n",
       "5  124           0                 0                     0   \n",
       "\n",
       "   numOfRepliesReceived  minimumInvites  maximumInvites  firstFollowUpsSent  \\\n",
       "1                    95               1               5                  35   \n",
       "2                   129               9              15                 588   \n",
       "3                    38               3               6                  25   \n",
       "4                    19               3               6                  38   \n",
       "5                     0               3               8                   0   \n",
       "\n",
       "   secondFollowUpsSent  invitesWithdrawn  thirdFollowUpsSent  \\\n",
       "1                   29                89                   0   \n",
       "2                    0              1480                   0   \n",
       "3                   10               145                   0   \n",
       "4                   32               467                   0   \n",
       "5                    0                 0                   0   \n",
       "\n",
       "   fourthFollowUpsSent  fifthFollowUpsSent  sixthFollowUpsSent  \n",
       "1                    0                   0                   0  \n",
       "2                    0                   0                   0  \n",
       "3                    0                   0                   0  \n",
       "4                    0                   0                   0  \n",
       "5                    0                   0                   0  "
      ]
     },
     "execution_count": 57,
     "metadata": {},
     "output_type": "execute_result"
    }
   ],
   "source": [
    "# Looks like there is nothing to do here\n",
    "print(campaigns_df.info())\n",
    "campaigns_df.head()"
   ]
  },
  {
   "cell_type": "markdown",
   "metadata": {},
   "source": [
    "## 2. Leads"
   ]
  },
  {
   "cell_type": "markdown",
   "metadata": {},
   "source": [
    "### a. Cleaning"
   ]
  },
  {
   "cell_type": "code",
   "execution_count": 58,
   "metadata": {},
   "outputs": [],
   "source": [
    "# Delete the leads that never received an invite\n",
    "# leads_df = leads_df.dropna(subset=['inviteSentAt'])1\n",
    "\n",
    "# We do not want to delete such leads, since this is the kind of data we want to predict"
   ]
  },
  {
   "cell_type": "code",
   "execution_count": 59,
   "metadata": {},
   "outputs": [],
   "source": [
    "leads_df = leads_df.drop(\n",
    "    [\n",
    "        # \"campaignId\", this is needed since the relationship between the campaigns and the leads is based on this column\n",
    "        # \"id\", needed for the final merge\n",
    "        \"userId\",\n",
    "        \"name\",\n",
    "        \"firstName\",\n",
    "        \"lastName\",\n",
    "        \"companyName\",\n",
    "        \"email\",\n",
    "        \"createdAt\",\n",
    "        \"updatedAt\",\n",
    "        \"emailFollowUpThreadId\", # related to email campaign\n",
    "        \"firstEmailFollowUpSentAt\", # related to email campaign\n",
    "        \"secondEmailFollowUpSentAt\", # related to email campaign\n",
    "        \"cdsEmployeeId\", # related to email campaign\n",
    "        \"skipReason\",\n",
    "        \"existingMessagesCount\", # related to another campaign type\n",
    "        \"inviteAttempts\", # not relevant\n",
    "        \"skip\", # already cleaned by dropping the rows with no inviteSentAt\n",
    "        \"sixthFollowUpSentAt\", # this is almost never reachable, leads reply within 5 follow ups (null in the dataset)\n",
    "    ],\n",
    "    axis=1,\n",
    "    errors=\"ignore\",\n",
    ")\n",
    "\n",
    "# print(leads_df.info())"
   ]
  },
  {
   "cell_type": "markdown",
   "metadata": {},
   "source": [
    "### b. Processing"
   ]
  },
  {
   "cell_type": "code",
   "execution_count": 60,
   "metadata": {},
   "outputs": [],
   "source": [
    "# Transforming to boolean columns where applicable (null = False, not null = True)\n",
    "column_name_mapping = {\n",
    "    \"inviteSentAt\": \"isInviteSent\",\n",
    "    \"inviteAccepted\": \"isInviteAccepted\",\n",
    "    \"inviteWithdrawnAt\": \"isInviteWithdrawn\",\n",
    "    \"firstFollowUpSentAt\": \"isFirstFollowUpSent\",\n",
    "    \"secondFollowUpSentAt\": \"isSecondFollowUpSent\",\n",
    "    \"replied\": \"isReplied\",\n",
    "    \"thirdFollowUpSentAt\": \"isThirdFollowUpSent\",\n",
    "    \"fourthFollowUpSentAt\": \"isFourthFollowUpSent\",\n",
    "    \"fifthFollowUpSentAt\": \"isFifthFollowUpSent\",\n",
    "}\n",
    "\n",
    "for old_name, new_name in column_name_mapping.items():\n",
    "    leads_df[new_name] = ~leads_df[old_name].isnull()\n",
    "\n",
    "leads_df = leads_df.drop(column_name_mapping.keys(), axis=1) # type: ignore # safe to ignore, since the keys are the same as the columns"
   ]
  },
  {
   "cell_type": "code",
   "execution_count": 61,
   "metadata": {},
   "outputs": [],
   "source": [
    "# Rename some columns for clarity\n",
    "leads_df = leads_df.rename(columns={\"id\": \"leadId\"})\n",
    "leads_df = leads_df.rename(columns={\"title\": \"position\"})"
   ]
  },
  {
   "cell_type": "code",
   "execution_count": 62,
   "metadata": {},
   "outputs": [],
   "source": [
    "# Encode the genre with one-hot encoding\n",
    "leads_df = pd.get_dummies(leads_df, columns=['gender'])"
   ]
  },
  {
   "cell_type": "code",
   "execution_count": 63,
   "metadata": {},
   "outputs": [],
   "source": [
    "# Encode the other categorical columns with label encoding\n",
    "label_encoder = LabelEncoder()\n",
    "categorical_columns = ['position', 'city', 'country', 'location']\n",
    "for column in categorical_columns:\n",
    "    leads_df[column] = label_encoder.fit_transform(leads_df[column])\n",
    "\n",
    "del label_encoder, categorical_columns"
   ]
  },
  {
   "cell_type": "code",
   "execution_count": 64,
   "metadata": {},
   "outputs": [
    {
     "name": "stdout",
     "output_type": "stream",
     "text": [
      "<class 'pandas.core.frame.DataFrame'>\n",
      "RangeIndex: 59609 entries, 0 to 59608\n",
      "Data columns (total 17 columns):\n",
      " #   Column                Non-Null Count  Dtype\n",
      "---  ------                --------------  -----\n",
      " 0   leadId                59609 non-null  int64\n",
      " 1   campaignId            59609 non-null  int64\n",
      " 2   position              59609 non-null  int64\n",
      " 3   city                  59609 non-null  int64\n",
      " 4   country               59609 non-null  int64\n",
      " 5   location              59609 non-null  int64\n",
      " 6   isInviteSent          59609 non-null  bool \n",
      " 7   isInviteAccepted      59609 non-null  bool \n",
      " 8   isInviteWithdrawn     59609 non-null  bool \n",
      " 9   isFirstFollowUpSent   59609 non-null  bool \n",
      " 10  isSecondFollowUpSent  59609 non-null  bool \n",
      " 11  isReplied             59609 non-null  bool \n",
      " 12  isThirdFollowUpSent   59609 non-null  bool \n",
      " 13  isFourthFollowUpSent  59609 non-null  bool \n",
      " 14  isFifthFollowUpSent   59609 non-null  bool \n",
      " 15  gender_female         59609 non-null  bool \n",
      " 16  gender_male           59609 non-null  bool \n",
      "dtypes: bool(11), int64(6)\n",
      "memory usage: 3.4 MB\n",
      "None\n"
     ]
    },
    {
     "data": {
      "text/html": [
       "<div>\n",
       "<style scoped>\n",
       "    .dataframe tbody tr th:only-of-type {\n",
       "        vertical-align: middle;\n",
       "    }\n",
       "\n",
       "    .dataframe tbody tr th {\n",
       "        vertical-align: top;\n",
       "    }\n",
       "\n",
       "    .dataframe thead th {\n",
       "        text-align: right;\n",
       "    }\n",
       "</style>\n",
       "<table border=\"1\" class=\"dataframe\">\n",
       "  <thead>\n",
       "    <tr style=\"text-align: right;\">\n",
       "      <th></th>\n",
       "      <th>leadId</th>\n",
       "      <th>campaignId</th>\n",
       "      <th>position</th>\n",
       "      <th>city</th>\n",
       "      <th>country</th>\n",
       "      <th>location</th>\n",
       "      <th>isInviteSent</th>\n",
       "      <th>isInviteAccepted</th>\n",
       "      <th>isInviteWithdrawn</th>\n",
       "      <th>isFirstFollowUpSent</th>\n",
       "      <th>isSecondFollowUpSent</th>\n",
       "      <th>isReplied</th>\n",
       "      <th>isThirdFollowUpSent</th>\n",
       "      <th>isFourthFollowUpSent</th>\n",
       "      <th>isFifthFollowUpSent</th>\n",
       "      <th>gender_female</th>\n",
       "      <th>gender_male</th>\n",
       "    </tr>\n",
       "  </thead>\n",
       "  <tbody>\n",
       "    <tr>\n",
       "      <th>0</th>\n",
       "      <td>42882</td>\n",
       "      <td>150</td>\n",
       "      <td>53</td>\n",
       "      <td>0</td>\n",
       "      <td>0</td>\n",
       "      <td>4140</td>\n",
       "      <td>False</td>\n",
       "      <td>True</td>\n",
       "      <td>False</td>\n",
       "      <td>False</td>\n",
       "      <td>False</td>\n",
       "      <td>True</td>\n",
       "      <td>False</td>\n",
       "      <td>False</td>\n",
       "      <td>False</td>\n",
       "      <td>False</td>\n",
       "      <td>True</td>\n",
       "    </tr>\n",
       "    <tr>\n",
       "      <th>1</th>\n",
       "      <td>43056</td>\n",
       "      <td>150</td>\n",
       "      <td>53</td>\n",
       "      <td>0</td>\n",
       "      <td>0</td>\n",
       "      <td>1572</td>\n",
       "      <td>False</td>\n",
       "      <td>True</td>\n",
       "      <td>False</td>\n",
       "      <td>False</td>\n",
       "      <td>False</td>\n",
       "      <td>True</td>\n",
       "      <td>False</td>\n",
       "      <td>False</td>\n",
       "      <td>False</td>\n",
       "      <td>False</td>\n",
       "      <td>True</td>\n",
       "    </tr>\n",
       "    <tr>\n",
       "      <th>2</th>\n",
       "      <td>43059</td>\n",
       "      <td>150</td>\n",
       "      <td>53</td>\n",
       "      <td>0</td>\n",
       "      <td>0</td>\n",
       "      <td>5239</td>\n",
       "      <td>False</td>\n",
       "      <td>True</td>\n",
       "      <td>False</td>\n",
       "      <td>False</td>\n",
       "      <td>False</td>\n",
       "      <td>True</td>\n",
       "      <td>False</td>\n",
       "      <td>False</td>\n",
       "      <td>False</td>\n",
       "      <td>False</td>\n",
       "      <td>True</td>\n",
       "    </tr>\n",
       "    <tr>\n",
       "      <th>3</th>\n",
       "      <td>43066</td>\n",
       "      <td>150</td>\n",
       "      <td>53</td>\n",
       "      <td>0</td>\n",
       "      <td>0</td>\n",
       "      <td>2163</td>\n",
       "      <td>False</td>\n",
       "      <td>True</td>\n",
       "      <td>False</td>\n",
       "      <td>False</td>\n",
       "      <td>False</td>\n",
       "      <td>True</td>\n",
       "      <td>False</td>\n",
       "      <td>False</td>\n",
       "      <td>False</td>\n",
       "      <td>False</td>\n",
       "      <td>True</td>\n",
       "    </tr>\n",
       "    <tr>\n",
       "      <th>4</th>\n",
       "      <td>43199</td>\n",
       "      <td>150</td>\n",
       "      <td>53</td>\n",
       "      <td>0</td>\n",
       "      <td>0</td>\n",
       "      <td>6394</td>\n",
       "      <td>False</td>\n",
       "      <td>True</td>\n",
       "      <td>False</td>\n",
       "      <td>False</td>\n",
       "      <td>False</td>\n",
       "      <td>True</td>\n",
       "      <td>False</td>\n",
       "      <td>False</td>\n",
       "      <td>False</td>\n",
       "      <td>False</td>\n",
       "      <td>True</td>\n",
       "    </tr>\n",
       "  </tbody>\n",
       "</table>\n",
       "</div>"
      ],
      "text/plain": [
       "   leadId  campaignId  position  city  country  location  isInviteSent  \\\n",
       "0   42882         150        53     0        0      4140         False   \n",
       "1   43056         150        53     0        0      1572         False   \n",
       "2   43059         150        53     0        0      5239         False   \n",
       "3   43066         150        53     0        0      2163         False   \n",
       "4   43199         150        53     0        0      6394         False   \n",
       "\n",
       "   isInviteAccepted  isInviteWithdrawn  isFirstFollowUpSent  \\\n",
       "0              True              False                False   \n",
       "1              True              False                False   \n",
       "2              True              False                False   \n",
       "3              True              False                False   \n",
       "4              True              False                False   \n",
       "\n",
       "   isSecondFollowUpSent  isReplied  isThirdFollowUpSent  isFourthFollowUpSent  \\\n",
       "0                 False       True                False                 False   \n",
       "1                 False       True                False                 False   \n",
       "2                 False       True                False                 False   \n",
       "3                 False       True                False                 False   \n",
       "4                 False       True                False                 False   \n",
       "\n",
       "   isFifthFollowUpSent  gender_female  gender_male  \n",
       "0                False          False         True  \n",
       "1                False          False         True  \n",
       "2                False          False         True  \n",
       "3                False          False         True  \n",
       "4                False          False         True  "
      ]
     },
     "execution_count": 64,
     "metadata": {},
     "output_type": "execute_result"
    }
   ],
   "source": [
    "print(leads_df.info())\n",
    "leads_df.head()"
   ]
  },
  {
   "cell_type": "markdown",
   "metadata": {},
   "source": [
    "## 3. Messages"
   ]
  },
  {
   "cell_type": "markdown",
   "metadata": {},
   "source": [
    "### a. Cleaning"
   ]
  },
  {
   "cell_type": "code",
   "execution_count": 65,
   "metadata": {},
   "outputs": [],
   "source": [
    "# Only keep LinkedIn type messages\n",
    "messages_df = messages_df[messages_df['type'] == 'LINKEDIN']"
   ]
  },
  {
   "cell_type": "code",
   "execution_count": 66,
   "metadata": {},
   "outputs": [],
   "source": [
    "# Delete all messages not related to any campaign\n",
    "messages_df = messages_df[messages_df['campaignId'].isin(campaigns_df['id'])]"
   ]
  },
  {
   "cell_type": "code",
   "execution_count": 67,
   "metadata": {},
   "outputs": [],
   "source": [
    "# Delete unnecessary columns\n",
    "messages_df = messages_df.drop(\n",
    "    [\n",
    "        # \"campaignId\", this is needed since the relationship between the campaigns and the leads is based on this column\n",
    "        \"type\", # type is always \"LINKEDIN\" here\n",
    "        \"createdAt\",\n",
    "        \"updatedAt\",\n",
    "    ],\n",
    "    axis=1,\n",
    "    errors=\"ignore\",\n",
    ")\n",
    "\n",
    "# print(messages_df.info())"
   ]
  },
  {
   "cell_type": "markdown",
   "metadata": {},
   "source": [
    "### b. Processing"
   ]
  },
  {
   "cell_type": "code",
   "execution_count": 68,
   "metadata": {},
   "outputs": [],
   "source": [
    "# Set all null intervals to 0 (always the case for initial messages or invites)\n",
    "messages_df['interval'] = messages_df['interval'].fillna(0)\n",
    "messages_df['interval'] = messages_df['interval'].astype(int)"
   ]
  },
  {
   "cell_type": "code",
   "execution_count": 69,
   "metadata": {},
   "outputs": [],
   "source": [
    "# Create a new `messageId` out of the `order` and `campaignId` columns. Both are numeric\n",
    "messages_df['messageId'] = messages_df['order'].astype(str) + \"-\" + messages_df['campaignId'].astype(str)"
   ]
  },
  {
   "cell_type": "code",
   "execution_count": 70,
   "metadata": {},
   "outputs": [],
   "source": [
    "# Make a copy of the raw data for later\n",
    "messages_raw_df = messages_df.copy()"
   ]
  },
  {
   "cell_type": "code",
   "execution_count": 29,
   "metadata": {},
   "outputs": [],
   "source": [
    "# Label encoding for categorical variables\n",
    "label_encoder = LabelEncoder()\n",
    "categorical_columns = ['name', 'content', 'maleSalutation', 'femaleSalutation']\n",
    "\n",
    "for column in categorical_columns:\n",
    "    messages_df[column] = label_encoder.fit_transform(messages_df[column].astype(str))\n",
    "\n",
    "del label_encoder, categorical_columns"
   ]
  },
  {
   "cell_type": "code",
   "execution_count": 30,
   "metadata": {},
   "outputs": [
    {
     "name": "stdout",
     "output_type": "stream",
     "text": [
      "<class 'pandas.core.frame.DataFrame'>\n",
      "Index: 393 entries, 0 to 433\n",
      "Data columns (total 8 columns):\n",
      " #   Column            Non-Null Count  Dtype \n",
      "---  ------            --------------  ----- \n",
      " 0   order             393 non-null    int64 \n",
      " 1   campaignId        393 non-null    int64 \n",
      " 2   name              393 non-null    int64 \n",
      " 3   content           393 non-null    int64 \n",
      " 4   maleSalutation    393 non-null    int64 \n",
      " 5   femaleSalutation  393 non-null    int64 \n",
      " 6   interval          393 non-null    int64 \n",
      " 7   messageId         393 non-null    object\n",
      "dtypes: int64(7), object(1)\n",
      "memory usage: 27.6+ KB\n",
      "None\n"
     ]
    },
    {
     "data": {
      "text/html": [
       "<div>\n",
       "<style scoped>\n",
       "    .dataframe tbody tr th:only-of-type {\n",
       "        vertical-align: middle;\n",
       "    }\n",
       "\n",
       "    .dataframe tbody tr th {\n",
       "        vertical-align: top;\n",
       "    }\n",
       "\n",
       "    .dataframe thead th {\n",
       "        text-align: right;\n",
       "    }\n",
       "</style>\n",
       "<table border=\"1\" class=\"dataframe\">\n",
       "  <thead>\n",
       "    <tr style=\"text-align: right;\">\n",
       "      <th></th>\n",
       "      <th>order</th>\n",
       "      <th>campaignId</th>\n",
       "      <th>name</th>\n",
       "      <th>content</th>\n",
       "      <th>maleSalutation</th>\n",
       "      <th>femaleSalutation</th>\n",
       "      <th>interval</th>\n",
       "      <th>messageId</th>\n",
       "    </tr>\n",
       "  </thead>\n",
       "  <tbody>\n",
       "    <tr>\n",
       "      <th>0</th>\n",
       "      <td>0</td>\n",
       "      <td>124</td>\n",
       "      <td>5</td>\n",
       "      <td>59</td>\n",
       "      <td>18</td>\n",
       "      <td>20</td>\n",
       "      <td>0</td>\n",
       "      <td>0-124</td>\n",
       "    </tr>\n",
       "    <tr>\n",
       "      <th>1</th>\n",
       "      <td>0</td>\n",
       "      <td>108</td>\n",
       "      <td>5</td>\n",
       "      <td>34</td>\n",
       "      <td>23</td>\n",
       "      <td>25</td>\n",
       "      <td>0</td>\n",
       "      <td>0-108</td>\n",
       "    </tr>\n",
       "    <tr>\n",
       "      <th>2</th>\n",
       "      <td>1</td>\n",
       "      <td>134</td>\n",
       "      <td>0</td>\n",
       "      <td>46</td>\n",
       "      <td>23</td>\n",
       "      <td>25</td>\n",
       "      <td>1</td>\n",
       "      <td>1-134</td>\n",
       "    </tr>\n",
       "    <tr>\n",
       "      <th>3</th>\n",
       "      <td>2</td>\n",
       "      <td>134</td>\n",
       "      <td>1</td>\n",
       "      <td>1</td>\n",
       "      <td>23</td>\n",
       "      <td>25</td>\n",
       "      <td>5</td>\n",
       "      <td>2-134</td>\n",
       "    </tr>\n",
       "    <tr>\n",
       "      <th>4</th>\n",
       "      <td>3</td>\n",
       "      <td>134</td>\n",
       "      <td>2</td>\n",
       "      <td>45</td>\n",
       "      <td>23</td>\n",
       "      <td>25</td>\n",
       "      <td>7</td>\n",
       "      <td>3-134</td>\n",
       "    </tr>\n",
       "  </tbody>\n",
       "</table>\n",
       "</div>"
      ],
      "text/plain": [
       "   order  campaignId  name  content  maleSalutation  femaleSalutation  \\\n",
       "0      0         124     5       59              18                20   \n",
       "1      0         108     5       34              23                25   \n",
       "2      1         134     0       46              23                25   \n",
       "3      2         134     1        1              23                25   \n",
       "4      3         134     2       45              23                25   \n",
       "\n",
       "   interval messageId  \n",
       "0         0     0-124  \n",
       "1         0     0-108  \n",
       "2         1     1-134  \n",
       "3         5     2-134  \n",
       "4         7     3-134  "
      ]
     },
     "execution_count": 30,
     "metadata": {},
     "output_type": "execute_result"
    }
   ],
   "source": [
    "print(messages_df.info())\n",
    "messages_df.head()"
   ]
  },
  {
   "cell_type": "markdown",
   "metadata": {},
   "source": [
    "The main purpose of the combined `messageId` is for the purpose of creating the `user-item` matrix and does not necessarily need to be used as a feature, hence why it's not in numeric format."
   ]
  },
  {
   "cell_type": "markdown",
   "metadata": {},
   "source": [
    "## 4. Records\n",
    "\n",
    "Nothing to do here at the moment since the campaign includes the final records"
   ]
  },
  {
   "cell_type": "code",
   "execution_count": 31,
   "metadata": {},
   "outputs": [],
   "source": [
    "del records_df"
   ]
  },
  {
   "cell_type": "markdown",
   "metadata": {},
   "source": [
    "## 5. Users\n",
    "\n",
    "Table does not have any impact on the data"
   ]
  },
  {
   "cell_type": "code",
   "execution_count": 32,
   "metadata": {},
   "outputs": [],
   "source": [
    "del users_df"
   ]
  },
  {
   "cell_type": "markdown",
   "metadata": {},
   "source": [
    "# III. Model Selection"
   ]
  },
  {
   "cell_type": "markdown",
   "metadata": {},
   "source": [
    "This can be approached in multiple ways:\n",
    "- As a recommendation problem, where the ideal message should be sent to a lead to increase their conversion probability.\n",
    "- An an NLP (Natural Language Processing) problem where new messages should be generated to increase the conversion rate for a specific campaign."
   ]
  },
  {
   "cell_type": "markdown",
   "metadata": {},
   "source": [
    "In this context, we will address this as a recommendation problem without any peculiar reason, which means that this can be solved using methods such as:\n",
    "- Collaborative Filtering\n",
    "  - User-based or item-based collaborative filtering.\n",
    "  - Matrix factorization methods like Singular Value Decomposition (SVD) or Alternating Least Squares (ALS).\n",
    "  - This method os suitable if we have a large number of leads with sufficient interaction data (responses to messages).\n",
    "  - Example, if `Lead A` and `Lead B` have responded to similar messages in the past, and `Lead A` responds to a new message, then that messages can be recommended to `Lead B`.\n",
    "- Content-based recommendation\n",
    "  - Utilize message content and lead features to recommend messages.\n",
    "  - This works very well if we have detailed information (message subject, length, sentiment, etc.) or if we have detailed information about the lead (job, past response behavior, etc.) which we have to a very small degree.\n",
    "- Association rules\n",
    "  - A rule-based method for discovering interesting relationship that works very well with a large number of transactions\n",
    "  - That's what we don't have in our case.\n",
    "\n",
    "Below, we do an attempt using **collaborative filtering**."
   ]
  },
  {
   "cell_type": "markdown",
   "metadata": {},
   "source": [
    "## 1. Feature engineering\n",
    "\n",
    "Let's create a user-item interaction matrix where each _row represents a lead_, each _column represents a message_, and each _value represents whether the lead responded_ to the message."
   ]
  },
  {
   "cell_type": "code",
   "execution_count": 33,
   "metadata": {},
   "outputs": [],
   "source": [
    "# Merge the dataframes\n",
    "data = pd.merge(leads_df, messages_df, on='campaignId')\n",
    "data = pd.merge(data, campaigns_df, left_on='campaignId', right_on='id')"
   ]
  },
  {
   "cell_type": "code",
   "execution_count": 34,
   "metadata": {},
   "outputs": [],
   "source": [
    "# Create the matrix\n",
    "user_item_matrix = pd.pivot_table(data, index='leadId', columns='messageId', values='isReplied')\n",
    "\n",
    "# Fill NaNs with 0\n",
    "user_item_matrix = user_item_matrix.fillna(0)\n",
    "\n",
    "# Transform to int\n",
    "user_item_matrix = user_item_matrix.astype(int)\n",
    "\n",
    "# Rename leadId to user_id\n",
    "user_item_matrix.index.names = ['user_id']"
   ]
  },
  {
   "cell_type": "code",
   "execution_count": 35,
   "metadata": {},
   "outputs": [],
   "source": [
    "# Delete rogue data\n",
    "del data"
   ]
  },
  {
   "cell_type": "code",
   "execution_count": 36,
   "metadata": {},
   "outputs": [
    {
     "name": "stdout",
     "output_type": "stream",
     "text": [
      "<class 'pandas.core.frame.DataFrame'>\n",
      "Index: 50024 entries, 1 to 58617\n",
      "Columns: 366 entries, 0-1 to 5-142\n",
      "dtypes: int64(366)\n",
      "memory usage: 140.1 MB\n",
      "None\n"
     ]
    },
    {
     "data": {
      "text/html": [
       "<div>\n",
       "<style scoped>\n",
       "    .dataframe tbody tr th:only-of-type {\n",
       "        vertical-align: middle;\n",
       "    }\n",
       "\n",
       "    .dataframe tbody tr th {\n",
       "        vertical-align: top;\n",
       "    }\n",
       "\n",
       "    .dataframe thead th {\n",
       "        text-align: right;\n",
       "    }\n",
       "</style>\n",
       "<table border=\"1\" class=\"dataframe\">\n",
       "  <thead>\n",
       "    <tr style=\"text-align: right;\">\n",
       "      <th>messageId</th>\n",
       "      <th>0-1</th>\n",
       "      <th>0-100</th>\n",
       "      <th>0-101</th>\n",
       "      <th>0-102</th>\n",
       "      <th>0-103</th>\n",
       "      <th>0-104</th>\n",
       "      <th>0-107</th>\n",
       "      <th>0-108</th>\n",
       "      <th>0-109</th>\n",
       "      <th>0-11</th>\n",
       "      <th>...</th>\n",
       "      <th>4-139</th>\n",
       "      <th>4-140</th>\n",
       "      <th>4-142</th>\n",
       "      <th>4-143</th>\n",
       "      <th>4-145</th>\n",
       "      <th>4-148</th>\n",
       "      <th>4-165</th>\n",
       "      <th>4-167</th>\n",
       "      <th>5-139</th>\n",
       "      <th>5-142</th>\n",
       "    </tr>\n",
       "    <tr>\n",
       "      <th>user_id</th>\n",
       "      <th></th>\n",
       "      <th></th>\n",
       "      <th></th>\n",
       "      <th></th>\n",
       "      <th></th>\n",
       "      <th></th>\n",
       "      <th></th>\n",
       "      <th></th>\n",
       "      <th></th>\n",
       "      <th></th>\n",
       "      <th></th>\n",
       "      <th></th>\n",
       "      <th></th>\n",
       "      <th></th>\n",
       "      <th></th>\n",
       "      <th></th>\n",
       "      <th></th>\n",
       "      <th></th>\n",
       "      <th></th>\n",
       "      <th></th>\n",
       "      <th></th>\n",
       "    </tr>\n",
       "  </thead>\n",
       "  <tbody>\n",
       "    <tr>\n",
       "      <th>58613</th>\n",
       "      <td>0</td>\n",
       "      <td>0</td>\n",
       "      <td>0</td>\n",
       "      <td>0</td>\n",
       "      <td>0</td>\n",
       "      <td>0</td>\n",
       "      <td>0</td>\n",
       "      <td>0</td>\n",
       "      <td>0</td>\n",
       "      <td>0</td>\n",
       "      <td>...</td>\n",
       "      <td>0</td>\n",
       "      <td>0</td>\n",
       "      <td>0</td>\n",
       "      <td>0</td>\n",
       "      <td>0</td>\n",
       "      <td>0</td>\n",
       "      <td>0</td>\n",
       "      <td>1</td>\n",
       "      <td>0</td>\n",
       "      <td>0</td>\n",
       "    </tr>\n",
       "    <tr>\n",
       "      <th>58614</th>\n",
       "      <td>0</td>\n",
       "      <td>0</td>\n",
       "      <td>0</td>\n",
       "      <td>0</td>\n",
       "      <td>0</td>\n",
       "      <td>0</td>\n",
       "      <td>0</td>\n",
       "      <td>0</td>\n",
       "      <td>0</td>\n",
       "      <td>0</td>\n",
       "      <td>...</td>\n",
       "      <td>0</td>\n",
       "      <td>0</td>\n",
       "      <td>0</td>\n",
       "      <td>0</td>\n",
       "      <td>0</td>\n",
       "      <td>0</td>\n",
       "      <td>0</td>\n",
       "      <td>1</td>\n",
       "      <td>0</td>\n",
       "      <td>0</td>\n",
       "    </tr>\n",
       "    <tr>\n",
       "      <th>58615</th>\n",
       "      <td>0</td>\n",
       "      <td>0</td>\n",
       "      <td>0</td>\n",
       "      <td>0</td>\n",
       "      <td>0</td>\n",
       "      <td>0</td>\n",
       "      <td>0</td>\n",
       "      <td>0</td>\n",
       "      <td>0</td>\n",
       "      <td>0</td>\n",
       "      <td>...</td>\n",
       "      <td>0</td>\n",
       "      <td>0</td>\n",
       "      <td>0</td>\n",
       "      <td>0</td>\n",
       "      <td>0</td>\n",
       "      <td>0</td>\n",
       "      <td>0</td>\n",
       "      <td>1</td>\n",
       "      <td>0</td>\n",
       "      <td>0</td>\n",
       "    </tr>\n",
       "    <tr>\n",
       "      <th>58616</th>\n",
       "      <td>0</td>\n",
       "      <td>0</td>\n",
       "      <td>0</td>\n",
       "      <td>0</td>\n",
       "      <td>0</td>\n",
       "      <td>0</td>\n",
       "      <td>0</td>\n",
       "      <td>0</td>\n",
       "      <td>0</td>\n",
       "      <td>0</td>\n",
       "      <td>...</td>\n",
       "      <td>0</td>\n",
       "      <td>0</td>\n",
       "      <td>0</td>\n",
       "      <td>0</td>\n",
       "      <td>0</td>\n",
       "      <td>0</td>\n",
       "      <td>0</td>\n",
       "      <td>1</td>\n",
       "      <td>0</td>\n",
       "      <td>0</td>\n",
       "    </tr>\n",
       "    <tr>\n",
       "      <th>58617</th>\n",
       "      <td>0</td>\n",
       "      <td>0</td>\n",
       "      <td>0</td>\n",
       "      <td>0</td>\n",
       "      <td>0</td>\n",
       "      <td>0</td>\n",
       "      <td>0</td>\n",
       "      <td>0</td>\n",
       "      <td>0</td>\n",
       "      <td>0</td>\n",
       "      <td>...</td>\n",
       "      <td>0</td>\n",
       "      <td>0</td>\n",
       "      <td>0</td>\n",
       "      <td>0</td>\n",
       "      <td>0</td>\n",
       "      <td>0</td>\n",
       "      <td>0</td>\n",
       "      <td>1</td>\n",
       "      <td>0</td>\n",
       "      <td>0</td>\n",
       "    </tr>\n",
       "  </tbody>\n",
       "</table>\n",
       "<p>5 rows × 366 columns</p>\n",
       "</div>"
      ],
      "text/plain": [
       "messageId  0-1  0-100  0-101  0-102  0-103  0-104  0-107  0-108  0-109  0-11  \\\n",
       "user_id                                                                        \n",
       "58613        0      0      0      0      0      0      0      0      0     0   \n",
       "58614        0      0      0      0      0      0      0      0      0     0   \n",
       "58615        0      0      0      0      0      0      0      0      0     0   \n",
       "58616        0      0      0      0      0      0      0      0      0     0   \n",
       "58617        0      0      0      0      0      0      0      0      0     0   \n",
       "\n",
       "messageId  ...  4-139  4-140  4-142  4-143  4-145  4-148  4-165  4-167  5-139  \\\n",
       "user_id    ...                                                                  \n",
       "58613      ...      0      0      0      0      0      0      0      1      0   \n",
       "58614      ...      0      0      0      0      0      0      0      1      0   \n",
       "58615      ...      0      0      0      0      0      0      0      1      0   \n",
       "58616      ...      0      0      0      0      0      0      0      1      0   \n",
       "58617      ...      0      0      0      0      0      0      0      1      0   \n",
       "\n",
       "messageId  5-142  \n",
       "user_id           \n",
       "58613          0  \n",
       "58614          0  \n",
       "58615          0  \n",
       "58616          0  \n",
       "58617          0  \n",
       "\n",
       "[5 rows x 366 columns]"
      ]
     },
     "execution_count": 36,
     "metadata": {},
     "output_type": "execute_result"
    }
   ],
   "source": [
    "print(user_item_matrix.info())\n",
    "user_item_matrix.tail()"
   ]
  },
  {
   "cell_type": "markdown",
   "metadata": {},
   "source": [
    "If we take row the first row above, we can interpret it as follows:\n",
    "> The lead with the id of 58613 has replied to the fourth follow up message of the campaign with the id of 167."
   ]
  },
  {
   "cell_type": "markdown",
   "metadata": {},
   "source": [
    "# IV. Model Training & Evaluation"
   ]
  },
  {
   "cell_type": "markdown",
   "metadata": {},
   "source": [
    "Attempt to find the best number of dimensions to reduce the user-item matrix to.\n",
    "This helps extracting the most important features for predicting lead conversions.\n",
    "The best number of dimensions is the one that captures the most information, as measured by the explained variance ration.\n",
    "\n",
    "`TruncatedSVD` stands for Truncated Singular Value Decomposition. It is a dimensionality reduction technique.\n",
    "\n",
    "In the context of recommendation systems (such as the case here), `TruncatedSVD` is used to discover latent features in the user-item matrix. The aformentioned latent features are used to make recommendations.\n",
    "\n",
    "\n",
    "For example, if we have a user-item matrix where the entries represent movie ratings, `TruncatedSVD` might discover that some of the latent features correspond to specific genres, and it can then use these features to recommend movies of a specific genre to a user."
   ]
  },
  {
   "cell_type": "code",
   "execution_count": 37,
   "metadata": {},
   "outputs": [],
   "source": [
    "X_train, X_test = train_test_split(user_item_matrix, test_size=0.2, random_state=42)"
   ]
  },
  {
   "cell_type": "markdown",
   "metadata": {},
   "source": [
    "This was going to originally use the `GridSearchCV` but it is primarily designed for supervised learning algorithms.\n",
    "As a workaround, the grid search is performed manually."
   ]
  },
  {
   "cell_type": "code",
   "execution_count": 343,
   "metadata": {},
   "outputs": [],
   "source": [
    "# Left here for documentation purposes\n",
    "# from sklearn.metrics import make_scorer\n",
    "# from sklearn.model_selection import GridSearchCV\n",
    "\n",
    "# model = TruncatedSVD(\n",
    "#     random_state=42\n",
    "#     # n_components is the hyperparameter we want to tune\n",
    "# )\n",
    "\n",
    "# # Define the grid of hyperparameters to search\n",
    "# hyperparameter_grid = {\"n_components\": [10, 50, 100, 200]}\n",
    "\n",
    "\n",
    "# # Define a custom scoring function\n",
    "# # Needed because the default scoring function is not supported for TruncatedSVD (unsupervised learning algorithm)\n",
    "# def explained_variance_scorer(estimator, X_train, Y_train):\n",
    "#     print(\"Explained variance ratio: \", estimator.fit(X_train).explained_variance_ratio_)\n",
    "#     return estimator.fit(X_train).explained_variance_ratio_.sum()\n",
    "\n",
    "\n",
    "# # Create a scorer using the custom scoring function\n",
    "# scorer = make_scorer(explained_variance_scorer, greater_is_better=True)\n",
    "\n",
    "# # Set up the grid search with 'explained_variance' as the scoring metric\n",
    "# grid_cv = GridSearchCV(model, hyperparameter_grid, scoring=scorer, cv=5, refit=False)\n",
    "\n",
    "# # Fit the grid search\n",
    "# grid_cv.fit(X_train)\n",
    "\n",
    "# # Get the best parameters\n",
    "# best_params = grid_cv.best_params_\n",
    "\n",
    "# # Manually refit the model with the best parameters\n",
    "# best_model = TruncatedSVD(n_components=best_params[\"n_components\"], random_state=42)\n",
    "# best_model.fit(X_train)"
   ]
  },
  {
   "cell_type": "code",
   "execution_count": 344,
   "metadata": {},
   "outputs": [
    {
     "name": "stdout",
     "output_type": "stream",
     "text": [
      "n_components: 50, score: 0.7544168346667408\n",
      "n_components: 100, score: 0.9859186594745364\n",
      "n_components: 250, score: 1.0000000000000402\n",
      "n_components: 300, score: 1.0000000000000469\n",
      "n_components: 342, score: 1.0000000000000424\n",
      "Best hyperparameters:  {'algorithm': 'randomized', 'n_components': 300, 'n_iter': 5, 'n_oversamples': 10, 'power_iteration_normalizer': 'auto', 'random_state': 42, 'tol': 0.0}\n",
      "Explained variance ratio:  1.0000000000000469\n"
     ]
    },
    {
     "data": {
      "text/html": [
       "<style>#sk-container-id-6 {color: black;}#sk-container-id-6 pre{padding: 0;}#sk-container-id-6 div.sk-toggleable {background-color: white;}#sk-container-id-6 label.sk-toggleable__label {cursor: pointer;display: block;width: 100%;margin-bottom: 0;padding: 0.3em;box-sizing: border-box;text-align: center;}#sk-container-id-6 label.sk-toggleable__label-arrow:before {content: \"▸\";float: left;margin-right: 0.25em;color: #696969;}#sk-container-id-6 label.sk-toggleable__label-arrow:hover:before {color: black;}#sk-container-id-6 div.sk-estimator:hover label.sk-toggleable__label-arrow:before {color: black;}#sk-container-id-6 div.sk-toggleable__content {max-height: 0;max-width: 0;overflow: hidden;text-align: left;background-color: #f0f8ff;}#sk-container-id-6 div.sk-toggleable__content pre {margin: 0.2em;color: black;border-radius: 0.25em;background-color: #f0f8ff;}#sk-container-id-6 input.sk-toggleable__control:checked~div.sk-toggleable__content {max-height: 200px;max-width: 100%;overflow: auto;}#sk-container-id-6 input.sk-toggleable__control:checked~label.sk-toggleable__label-arrow:before {content: \"▾\";}#sk-container-id-6 div.sk-estimator input.sk-toggleable__control:checked~label.sk-toggleable__label {background-color: #d4ebff;}#sk-container-id-6 div.sk-label input.sk-toggleable__control:checked~label.sk-toggleable__label {background-color: #d4ebff;}#sk-container-id-6 input.sk-hidden--visually {border: 0;clip: rect(1px 1px 1px 1px);clip: rect(1px, 1px, 1px, 1px);height: 1px;margin: -1px;overflow: hidden;padding: 0;position: absolute;width: 1px;}#sk-container-id-6 div.sk-estimator {font-family: monospace;background-color: #f0f8ff;border: 1px dotted black;border-radius: 0.25em;box-sizing: border-box;margin-bottom: 0.5em;}#sk-container-id-6 div.sk-estimator:hover {background-color: #d4ebff;}#sk-container-id-6 div.sk-parallel-item::after {content: \"\";width: 100%;border-bottom: 1px solid gray;flex-grow: 1;}#sk-container-id-6 div.sk-label:hover label.sk-toggleable__label {background-color: #d4ebff;}#sk-container-id-6 div.sk-serial::before {content: \"\";position: absolute;border-left: 1px solid gray;box-sizing: border-box;top: 0;bottom: 0;left: 50%;z-index: 0;}#sk-container-id-6 div.sk-serial {display: flex;flex-direction: column;align-items: center;background-color: white;padding-right: 0.2em;padding-left: 0.2em;position: relative;}#sk-container-id-6 div.sk-item {position: relative;z-index: 1;}#sk-container-id-6 div.sk-parallel {display: flex;align-items: stretch;justify-content: center;background-color: white;position: relative;}#sk-container-id-6 div.sk-item::before, #sk-container-id-6 div.sk-parallel-item::before {content: \"\";position: absolute;border-left: 1px solid gray;box-sizing: border-box;top: 0;bottom: 0;left: 50%;z-index: -1;}#sk-container-id-6 div.sk-parallel-item {display: flex;flex-direction: column;z-index: 1;position: relative;background-color: white;}#sk-container-id-6 div.sk-parallel-item:first-child::after {align-self: flex-end;width: 50%;}#sk-container-id-6 div.sk-parallel-item:last-child::after {align-self: flex-start;width: 50%;}#sk-container-id-6 div.sk-parallel-item:only-child::after {width: 0;}#sk-container-id-6 div.sk-dashed-wrapped {border: 1px dashed gray;margin: 0 0.4em 0.5em 0.4em;box-sizing: border-box;padding-bottom: 0.4em;background-color: white;}#sk-container-id-6 div.sk-label label {font-family: monospace;font-weight: bold;display: inline-block;line-height: 1.2em;}#sk-container-id-6 div.sk-label-container {text-align: center;}#sk-container-id-6 div.sk-container {/* jupyter's `normalize.less` sets `[hidden] { display: none; }` but bootstrap.min.css set `[hidden] { display: none !important; }` so we also need the `!important` here to be able to override the default hidden behavior on the sphinx rendered scikit-learn.org. See: https://github.com/scikit-learn/scikit-learn/issues/21755 */display: inline-block !important;position: relative;}#sk-container-id-6 div.sk-text-repr-fallback {display: none;}</style><div id=\"sk-container-id-6\" class=\"sk-top-container\"><div class=\"sk-text-repr-fallback\"><pre>TruncatedSVD(n_components=300, random_state=42)</pre><b>In a Jupyter environment, please rerun this cell to show the HTML representation or trust the notebook. <br />On GitHub, the HTML representation is unable to render, please try loading this page with nbviewer.org.</b></div><div class=\"sk-container\" hidden><div class=\"sk-item\"><div class=\"sk-estimator sk-toggleable\"><input class=\"sk-toggleable__control sk-hidden--visually\" id=\"sk-estimator-id-6\" type=\"checkbox\" checked><label for=\"sk-estimator-id-6\" class=\"sk-toggleable__label sk-toggleable__label-arrow\">TruncatedSVD</label><div class=\"sk-toggleable__content\"><pre>TruncatedSVD(n_components=300, random_state=42)</pre></div></div></div></div></div>"
      ],
      "text/plain": [
       "TruncatedSVD(n_components=300, random_state=42)"
      ]
     },
     "execution_count": 344,
     "metadata": {},
     "output_type": "execute_result"
    }
   ],
   "source": [
    "# The hyperparameter grid to search\n",
    "hyperparameter_grid = {\"n_components\": [50, 100, 250, 300, 342]}\n",
    "\n",
    "# Initialize the best_score to a low value\n",
    "best_score = -1\n",
    "best_model = TruncatedSVD(n_components=10, random_state=42)\n",
    "\n",
    "# Iterate over all hyperparameters and find the best_score\n",
    "for n_components in hyperparameter_grid[\"n_components\"]:\n",
    "    # Create and refit the model\n",
    "    model = TruncatedSVD(n_components=n_components, random_state=42)\n",
    "    model.fit(X_train)\n",
    "\n",
    "    score = model.explained_variance_ratio_.sum()\n",
    "\n",
    "    print(f\"n_components: {n_components}, score: {score}\")\n",
    "\n",
    "    # Get the best model based on the score\n",
    "    if score > best_score:\n",
    "        best_score = score\n",
    "        best_model = model\n",
    "\n",
    "print(\"Best hyperparameters: \", best_model.get_params())\n",
    "print(\"Explained variance ratio: \", best_score)\n",
    "\n",
    "best_model"
   ]
  },
  {
   "cell_type": "markdown",
   "metadata": {},
   "source": [
    "# V. Interpretation"
   ]
  },
  {
   "cell_type": "markdown",
   "metadata": {},
   "source": [
    "## 1. Feature important & model explanation"
   ]
  },
  {
   "cell_type": "markdown",
   "metadata": {},
   "source": [
    "- **Latent Features:**\n",
    "  The `n_components` represent latent features derived from the user-item matrix. They capture the underlying pattern in the data.\n",
    "  In our case, it represents a certain type of interaction pattern between leads and messages.\n",
    "- **Explained Variance Ratio:**\n",
    "  This explains how much information can be attributed to each of the latent features. The higher the value, the more important the feature is.\n",
    "- **Model Explanation:**\n",
    "  The created latent features do not directly correspond to the original features in the data. The transformed user-item matrix `best_model.transform(X)` can be used to see how each lead is represented in terms of latent features."
   ]
  },
  {
   "cell_type": "code",
   "execution_count": 38,
   "metadata": {},
   "outputs": [],
   "source": [
    "index_to_message_id = {i: message_id for i, message_id in enumerate(messages_df['messageId'])}"
   ]
  },
  {
   "cell_type": "markdown",
   "metadata": {},
   "source": [
    "## **Example:** An already converted lead"
   ]
  },
  {
   "cell_type": "markdown",
   "metadata": {},
   "source": [
    "Below, we try to check the ideal message of **what should have been sent to a lead** that already converted, meaning that `isReplied` is `true`.\n",
    "This has no business use, but just for demonstration purposes."
   ]
  },
  {
   "cell_type": "code",
   "execution_count": 83,
   "metadata": {},
   "outputs": [
    {
     "name": "stdout",
     "output_type": "stream",
     "text": [
      "Lead id:  39280\n"
     ]
    }
   ],
   "source": [
    "lead_id = leads_df[leads_df['isReplied']].sample().index[0]\n",
    "print(\"Lead id: \", lead_id)"
   ]
  },
  {
   "cell_type": "markdown",
   "metadata": {},
   "source": [
    "- Find the recommended messages' indices"
   ]
  },
  {
   "cell_type": "code",
   "execution_count": 347,
   "metadata": {},
   "outputs": [],
   "source": [
    "# Transform the user-item matrix\n",
    "transformed_matrix = best_model.transform(user_item_matrix)\n",
    "\n",
    "# Get the user vector\n",
    "user_vector = transformed_matrix[lead_id, :]\n",
    "\n",
    "# Compute the scores for each item by multiplying the user vector with the item matrix\n",
    "scores = np.dot(user_vector, best_model.components_)\n",
    "\n",
    "# Get the indices of the items sorted by their score in descending order\n",
    "recommended_item_indices = np.argsort(scores)[::-1]"
   ]
  },
  {
   "cell_type": "markdown",
   "metadata": {},
   "source": [
    "- Map to the actual messages"
   ]
  },
  {
   "cell_type": "code",
   "execution_count": 348,
   "metadata": {},
   "outputs": [
    {
     "data": {
      "text/html": [
       "<div>\n",
       "<style scoped>\n",
       "    .dataframe tbody tr th:only-of-type {\n",
       "        vertical-align: middle;\n",
       "    }\n",
       "\n",
       "    .dataframe tbody tr th {\n",
       "        vertical-align: top;\n",
       "    }\n",
       "\n",
       "    .dataframe thead th {\n",
       "        text-align: right;\n",
       "    }\n",
       "</style>\n",
       "<table border=\"1\" class=\"dataframe\">\n",
       "  <thead>\n",
       "    <tr style=\"text-align: right;\">\n",
       "      <th></th>\n",
       "      <th>order</th>\n",
       "      <th>campaignId</th>\n",
       "      <th>name</th>\n",
       "      <th>content</th>\n",
       "      <th>maleSalutation</th>\n",
       "      <th>femaleSalutation</th>\n",
       "      <th>interval</th>\n",
       "      <th>messageId</th>\n",
       "    </tr>\n",
       "  </thead>\n",
       "  <tbody>\n",
       "    <tr>\n",
       "      <th>0</th>\n",
       "      <td>0</td>\n",
       "      <td>124</td>\n",
       "      <td>5</td>\n",
       "      <td>59</td>\n",
       "      <td>18</td>\n",
       "      <td>20</td>\n",
       "      <td>0</td>\n",
       "      <td>0-124</td>\n",
       "    </tr>\n",
       "    <tr>\n",
       "      <th>1</th>\n",
       "      <td>1</td>\n",
       "      <td>134</td>\n",
       "      <td>0</td>\n",
       "      <td>46</td>\n",
       "      <td>23</td>\n",
       "      <td>25</td>\n",
       "      <td>1</td>\n",
       "      <td>1-134</td>\n",
       "    </tr>\n",
       "    <tr>\n",
       "      <th>2</th>\n",
       "      <td>2</td>\n",
       "      <td>134</td>\n",
       "      <td>1</td>\n",
       "      <td>1</td>\n",
       "      <td>23</td>\n",
       "      <td>25</td>\n",
       "      <td>5</td>\n",
       "      <td>2-134</td>\n",
       "    </tr>\n",
       "    <tr>\n",
       "      <th>3</th>\n",
       "      <td>3</td>\n",
       "      <td>134</td>\n",
       "      <td>2</td>\n",
       "      <td>45</td>\n",
       "      <td>23</td>\n",
       "      <td>25</td>\n",
       "      <td>7</td>\n",
       "      <td>3-134</td>\n",
       "    </tr>\n",
       "    <tr>\n",
       "      <th>4</th>\n",
       "      <td>4</td>\n",
       "      <td>134</td>\n",
       "      <td>3</td>\n",
       "      <td>20</td>\n",
       "      <td>23</td>\n",
       "      <td>25</td>\n",
       "      <td>14</td>\n",
       "      <td>4-134</td>\n",
       "    </tr>\n",
       "    <tr>\n",
       "      <th>5</th>\n",
       "      <td>5</td>\n",
       "      <td>139</td>\n",
       "      <td>4</td>\n",
       "      <td>341</td>\n",
       "      <td>3</td>\n",
       "      <td>5</td>\n",
       "      <td>45</td>\n",
       "      <td>5-139</td>\n",
       "    </tr>\n",
       "  </tbody>\n",
       "</table>\n",
       "</div>"
      ],
      "text/plain": [
       "   order  campaignId  name  content  maleSalutation  femaleSalutation  \\\n",
       "0      0         124     5       59              18                20   \n",
       "1      1         134     0       46              23                25   \n",
       "2      2         134     1        1              23                25   \n",
       "3      3         134     2       45              23                25   \n",
       "4      4         134     3       20              23                25   \n",
       "5      5         139     4      341               3                 5   \n",
       "\n",
       "   interval messageId  \n",
       "0         0     0-124  \n",
       "1         1     1-134  \n",
       "2         5     2-134  \n",
       "3         7     3-134  \n",
       "4        14     4-134  \n",
       "5        45     5-139  "
      ]
     },
     "execution_count": 348,
     "metadata": {},
     "output_type": "execute_result"
    }
   ],
   "source": [
    "# Get the recommended message ids\n",
    "recommended_message_ids = [index_to_message_id[index] for index in recommended_item_indices]\n",
    "\n",
    "# Filter the messages df to only include the recommended message ids\n",
    "recommended_messages = messages_df[messages_df['messageId'].isin(recommended_message_ids)]\n",
    "\n",
    "# Group by 'order' and keep only the first message for each order (this is an application specific logic)\n",
    "recommended_messages = recommended_messages.groupby('order').first().reset_index()\n",
    "\n",
    "# Show the recommended messages\n",
    "recommended_messages"
   ]
  },
  {
   "cell_type": "markdown",
   "metadata": {},
   "source": [
    "With this, we can simply lookup the actual messages' content before the encoding."
   ]
  },
  {
   "cell_type": "markdown",
   "metadata": {},
   "source": [
    "## **Example:** A lead with no messages sent"
   ]
  },
  {
   "cell_type": "markdown",
   "metadata": {},
   "source": [
    "Now we do the same but for a lead that still was not contacted yet. Meaning that the `inviteSentAt` is `false`.\n",
    "This is the answer to the problematic."
   ]
  },
  {
   "cell_type": "code",
   "execution_count": 82,
   "metadata": {},
   "outputs": [
    {
     "name": "stdout",
     "output_type": "stream",
     "text": [
      "Lead id:  38106\n"
     ]
    }
   ],
   "source": [
    "lead_id = leads_df[leads_df['isInviteSent']].sample().index[0]\n",
    "print(\"Lead id: \", lead_id)"
   ]
  },
  {
   "cell_type": "markdown",
   "metadata": {},
   "source": [
    "- Find the recommended messages' indices"
   ]
  },
  {
   "cell_type": "code",
   "execution_count": 350,
   "metadata": {},
   "outputs": [],
   "source": [
    "transformed_matrix = best_model.transform(user_item_matrix)\n",
    "user_vector = transformed_matrix[lead_id, :]\n",
    "scores = np.dot(user_vector, best_model.components_)\n",
    "recommended_item_indices = np.argsort(scores)[::-1]"
   ]
  },
  {
   "cell_type": "markdown",
   "metadata": {},
   "source": [
    "- Map to the actual messages"
   ]
  },
  {
   "cell_type": "code",
   "execution_count": 351,
   "metadata": {},
   "outputs": [
    {
     "data": {
      "text/html": [
       "<div>\n",
       "<style scoped>\n",
       "    .dataframe tbody tr th:only-of-type {\n",
       "        vertical-align: middle;\n",
       "    }\n",
       "\n",
       "    .dataframe tbody tr th {\n",
       "        vertical-align: top;\n",
       "    }\n",
       "\n",
       "    .dataframe thead th {\n",
       "        text-align: right;\n",
       "    }\n",
       "</style>\n",
       "<table border=\"1\" class=\"dataframe\">\n",
       "  <thead>\n",
       "    <tr style=\"text-align: right;\">\n",
       "      <th></th>\n",
       "      <th>order</th>\n",
       "      <th>campaignId</th>\n",
       "      <th>name</th>\n",
       "      <th>content</th>\n",
       "      <th>maleSalutation</th>\n",
       "      <th>femaleSalutation</th>\n",
       "      <th>interval</th>\n",
       "      <th>messageId</th>\n",
       "    </tr>\n",
       "  </thead>\n",
       "  <tbody>\n",
       "    <tr>\n",
       "      <th>0</th>\n",
       "      <td>0</td>\n",
       "      <td>124</td>\n",
       "      <td>5</td>\n",
       "      <td>59</td>\n",
       "      <td>18</td>\n",
       "      <td>20</td>\n",
       "      <td>0</td>\n",
       "      <td>0-124</td>\n",
       "    </tr>\n",
       "    <tr>\n",
       "      <th>1</th>\n",
       "      <td>1</td>\n",
       "      <td>134</td>\n",
       "      <td>0</td>\n",
       "      <td>46</td>\n",
       "      <td>23</td>\n",
       "      <td>25</td>\n",
       "      <td>1</td>\n",
       "      <td>1-134</td>\n",
       "    </tr>\n",
       "    <tr>\n",
       "      <th>2</th>\n",
       "      <td>2</td>\n",
       "      <td>134</td>\n",
       "      <td>1</td>\n",
       "      <td>1</td>\n",
       "      <td>23</td>\n",
       "      <td>25</td>\n",
       "      <td>5</td>\n",
       "      <td>2-134</td>\n",
       "    </tr>\n",
       "    <tr>\n",
       "      <th>3</th>\n",
       "      <td>3</td>\n",
       "      <td>134</td>\n",
       "      <td>2</td>\n",
       "      <td>45</td>\n",
       "      <td>23</td>\n",
       "      <td>25</td>\n",
       "      <td>7</td>\n",
       "      <td>3-134</td>\n",
       "    </tr>\n",
       "    <tr>\n",
       "      <th>4</th>\n",
       "      <td>4</td>\n",
       "      <td>134</td>\n",
       "      <td>3</td>\n",
       "      <td>20</td>\n",
       "      <td>23</td>\n",
       "      <td>25</td>\n",
       "      <td>14</td>\n",
       "      <td>4-134</td>\n",
       "    </tr>\n",
       "    <tr>\n",
       "      <th>5</th>\n",
       "      <td>5</td>\n",
       "      <td>139</td>\n",
       "      <td>4</td>\n",
       "      <td>341</td>\n",
       "      <td>3</td>\n",
       "      <td>5</td>\n",
       "      <td>45</td>\n",
       "      <td>5-139</td>\n",
       "    </tr>\n",
       "  </tbody>\n",
       "</table>\n",
       "</div>"
      ],
      "text/plain": [
       "   order  campaignId  name  content  maleSalutation  femaleSalutation  \\\n",
       "0      0         124     5       59              18                20   \n",
       "1      1         134     0       46              23                25   \n",
       "2      2         134     1        1              23                25   \n",
       "3      3         134     2       45              23                25   \n",
       "4      4         134     3       20              23                25   \n",
       "5      5         139     4      341               3                 5   \n",
       "\n",
       "   interval messageId  \n",
       "0         0     0-124  \n",
       "1         1     1-134  \n",
       "2         5     2-134  \n",
       "3         7     3-134  \n",
       "4        14     4-134  \n",
       "5        45     5-139  "
      ]
     },
     "execution_count": 351,
     "metadata": {},
     "output_type": "execute_result"
    }
   ],
   "source": [
    "recommended_message_ids = [index_to_message_id[index] for index in recommended_item_indices]\n",
    "recommended_messages = messages_df[messages_df['messageId'].isin(recommended_message_ids)]\n",
    "recommended_messages = recommended_messages.groupby('order').first().reset_index()\n",
    "recommended_messages"
   ]
  },
  {
   "cell_type": "markdown",
   "metadata": {},
   "source": [
    "# VI. Deployment"
   ]
  },
  {
   "cell_type": "markdown",
   "metadata": {},
   "source": [
    "To deploy the model, it first needs to be saved. It can then be wrapped in a web service that can receive requests and use the model to generate the message recommendations for a specific lead.\n",
    "\n",
    "Additionally, the `user_item_matrix` is necessary for the model to work."
   ]
  },
  {
   "cell_type": "markdown",
   "metadata": {},
   "source": [
    "## 1. Saving the model"
   ]
  },
  {
   "cell_type": "markdown",
   "metadata": {},
   "source": [
    "This is the main `TruncatedSVD` which was the result of our process."
   ]
  },
  {
   "cell_type": "code",
   "execution_count": 352,
   "metadata": {},
   "outputs": [],
   "source": [
    "with open('./leadgen/pickles/model.pkl', 'wb') as file:\n",
    "    pickle.dump(best_model, file)"
   ]
  },
  {
   "cell_type": "markdown",
   "metadata": {},
   "source": [
    "## 2. User Item Matrix"
   ]
  },
  {
   "cell_type": "markdown",
   "metadata": {},
   "source": [
    "This is the matrix that represents the interactions between leads and campaign messages.\n",
    "This can be handled in the context of a web application in multiple ways:"
   ]
  },
  {
   "cell_type": "markdown",
   "metadata": {},
   "source": [
    "1. **Pre-compute and save the matrix:** This is useful if the data doesn't change frequently. If so, it can be saved to a file (similar to how the model is saved). This is the most efficient options in terms of runtime. However, it does require a restart of the service if the data changes."
   ]
  },
  {
   "cell_type": "code",
   "execution_count": 353,
   "metadata": {},
   "outputs": [],
   "source": [
    "# Save the matrix to a file\n",
    "with open('./leadgen/pickles/user_item_matrix.pkl', 'wb') as file:\n",
    "    pickle.dump(user_item_matrix, file)\n",
    "\n",
    "# Load the matrix from the file\n",
    "with open('./leadgen/pickles/user_item_matrix.pkl', 'rb') as file:\n",
    "    user_item_matrix = pickle.load(file)"
   ]
  },
  {
   "cell_type": "markdown",
   "metadata": {},
   "source": [
    "2. **Recompute the matrix on startup:** If the data changes frequently, the matrix can be re-calculated every time the web service is started. This ensures that a simple restart can take care of re-creating the matrix, instead of having to operate on a file. This also requires a restart of the service if the data changes."
   ]
  },
  {
   "cell_type": "markdown",
   "metadata": {},
   "source": [
    "3. **Recompute the matrix on demand:** This is the solution that guarantees the most up to date information. However, it will most likely cause a bottleneck, especially if the service is used a lot."
   ]
  },
  {
   "cell_type": "markdown",
   "metadata": {},
   "source": [
    "The optimal option depends on how frequently the data changes and how much time it takes to compute the `user_item_matrix`.\n",
    "For simplicity purposes, the first option will be adopted."
   ]
  },
  {
   "cell_type": "markdown",
   "metadata": {},
   "source": [
    "## 3. Index to message id"
   ]
  },
  {
   "cell_type": "markdown",
   "metadata": {},
   "source": [
    "The `recommended_item_indices` are the ones that the model recommends. They correspond to the position of the messages in the `user_item_matrix`.\n",
    "The ids are not the same as the actual ids which is why mapping is necessary."
   ]
  },
  {
   "cell_type": "code",
   "execution_count": 40,
   "metadata": {},
   "outputs": [],
   "source": [
    "with open('./leadgen/pickles/index_to_message_id.pkl', 'wb') as file:\n",
    "    pickle.dump(index_to_message_id, file)"
   ]
  },
  {
   "cell_type": "markdown",
   "metadata": {},
   "source": [
    "## 4. Message dataframe"
   ]
  },
  {
   "cell_type": "markdown",
   "metadata": {},
   "source": [
    "Ideally, the `messages` dataframe should not be exported. Instead, a database join would have to take place to get the correct messages out of the `recommended_message_ids` generated by the model."
   ]
  },
  {
   "cell_type": "code",
   "execution_count": 71,
   "metadata": {},
   "outputs": [],
   "source": [
    "with open('./leadgen/pickles/messages_raw_df.pkl', 'wb') as file:\n",
    "    pickle.dump(messages_raw_df, file)"
   ]
  },
  {
   "cell_type": "markdown",
   "metadata": {},
   "source": [
    "## 5. Web Service"
   ]
  },
  {
   "cell_type": "markdown",
   "metadata": {},
   "source": [
    "This can be any web server that directly provides an endpoint to get the messages out of. Good candidates are (to name a few):\n",
    "- FastAPI\n",
    "- Flask (or its successor Quart)\n",
    "- Django"
   ]
  },
  {
   "cell_type": "markdown",
   "metadata": {},
   "source": [
    "The [leadgen directory](./leadgen/README.md) provides an example."
   ]
  }
 ],
 "metadata": {
  "kernelspec": {
   "display_name": "ml-lead-generating",
   "language": "python",
   "name": "python3"
  },
  "language_info": {
   "codemirror_mode": {
    "name": "ipython",
    "version": 3
   },
   "file_extension": ".py",
   "mimetype": "text/x-python",
   "name": "python",
   "nbconvert_exporter": "python",
   "pygments_lexer": "ipython3",
   "version": "3.12.0"
  }
 },
 "nbformat": 4,
 "nbformat_minor": 2
}
