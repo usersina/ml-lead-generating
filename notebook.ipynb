{
 "cells": [
  {
   "cell_type": "code",
   "execution_count": 2,
   "metadata": {},
   "outputs": [],
   "source": [
    "import os\n",
    "import pandas as pd\n",
    "import matplotlib.pyplot as plt\n",
    "import seaborn as sns"
   ]
  },
  {
   "cell_type": "markdown",
   "metadata": {},
   "source": [
    "# I. Data Exploration"
   ]
  },
  {
   "cell_type": "markdown",
   "metadata": {},
   "source": [
    "## 1. Campaigns"
   ]
  },
  {
   "cell_type": "code",
   "execution_count": 3,
   "metadata": {},
   "outputs": [
    {
     "data": {
      "text/html": [
       "<div>\n",
       "<style scoped>\n",
       "    .dataframe tbody tr th:only-of-type {\n",
       "        vertical-align: middle;\n",
       "    }\n",
       "\n",
       "    .dataframe tbody tr th {\n",
       "        vertical-align: top;\n",
       "    }\n",
       "\n",
       "    .dataframe thead th {\n",
       "        text-align: right;\n",
       "    }\n",
       "</style>\n",
       "<table border=\"1\" class=\"dataframe\">\n",
       "  <thead>\n",
       "    <tr style=\"text-align: right;\">\n",
       "      <th></th>\n",
       "      <th>id</th>\n",
       "      <th>name</th>\n",
       "      <th>status</th>\n",
       "      <th>numOfLeads</th>\n",
       "      <th>numOfInvitesSent</th>\n",
       "      <th>numOfInvitesAccepted</th>\n",
       "      <th>numOfRepliesReceived</th>\n",
       "      <th>userId</th>\n",
       "      <th>useFirstName</th>\n",
       "      <th>deleted</th>\n",
       "      <th>...</th>\n",
       "      <th>secondFollowUpsSent</th>\n",
       "      <th>invitesWithdrawn</th>\n",
       "      <th>createdAt</th>\n",
       "      <th>updatedAt</th>\n",
       "      <th>thirdFollowUpsSent</th>\n",
       "      <th>fourthFollowUpsSent</th>\n",
       "      <th>fifthFollowUpsSent</th>\n",
       "      <th>sixthFollowUpsSent</th>\n",
       "      <th>type</th>\n",
       "      <th>useScraperAccounts</th>\n",
       "    </tr>\n",
       "  </thead>\n",
       "  <tbody>\n",
       "    <tr>\n",
       "      <th>0</th>\n",
       "      <td>169</td>\n",
       "      <td>Jennings-Scott Walker-Molina</td>\n",
       "      <td>STOPPED</td>\n",
       "      <td>0</td>\n",
       "      <td>0</td>\n",
       "      <td>0</td>\n",
       "      <td>0</td>\n",
       "      <td>4</td>\n",
       "      <td>f</td>\n",
       "      <td>f</td>\n",
       "      <td>...</td>\n",
       "      <td>0</td>\n",
       "      <td>0</td>\n",
       "      <td>2023-09-29 14:34:46.105+00</td>\n",
       "      <td>2023-10-04 08:01:25.656+00</td>\n",
       "      <td>0</td>\n",
       "      <td>0</td>\n",
       "      <td>0</td>\n",
       "      <td>0</td>\n",
       "      <td>EmailTargetMarket</td>\n",
       "      <td>t</td>\n",
       "    </tr>\n",
       "  </tbody>\n",
       "</table>\n",
       "<p>1 rows × 24 columns</p>\n",
       "</div>"
      ],
      "text/plain": [
       "    id                          name   status  numOfLeads  numOfInvitesSent  \\\n",
       "0  169  Jennings-Scott Walker-Molina  STOPPED           0                 0   \n",
       "\n",
       "   numOfInvitesAccepted  numOfRepliesReceived  userId useFirstName deleted  \\\n",
       "0                     0                     0       4            f       f   \n",
       "\n",
       "   ... secondFollowUpsSent  invitesWithdrawn                   createdAt  \\\n",
       "0  ...                   0                 0  2023-09-29 14:34:46.105+00   \n",
       "\n",
       "                    updatedAt  thirdFollowUpsSent  fourthFollowUpsSent  \\\n",
       "0  2023-10-04 08:01:25.656+00                   0                    0   \n",
       "\n",
       "  fifthFollowUpsSent sixthFollowUpsSent               type  useScraperAccounts  \n",
       "0                  0                  0  EmailTargetMarket                   t  \n",
       "\n",
       "[1 rows x 24 columns]"
      ]
     },
     "execution_count": 3,
     "metadata": {},
     "output_type": "execute_result"
    }
   ],
   "source": [
    "campaigns_df = pd.read_csv(os.path.join('dataset', 'actual', 'Campaigns.csv'))\n",
    "\n",
    "campaigns_df.head(n=1)"
   ]
  },
  {
   "cell_type": "code",
   "execution_count": 4,
   "metadata": {},
   "outputs": [
    {
     "name": "stdout",
     "output_type": "stream",
     "text": [
      "<class 'pandas.core.frame.DataFrame'>\n",
      "RangeIndex: 146 entries, 0 to 145\n",
      "Data columns (total 24 columns):\n",
      " #   Column                   Non-Null Count  Dtype \n",
      "---  ------                   --------------  ----- \n",
      " 0   id                       146 non-null    int64 \n",
      " 1   name                     146 non-null    object\n",
      " 2   status                   146 non-null    object\n",
      " 3   numOfLeads               146 non-null    int64 \n",
      " 4   numOfInvitesSent         146 non-null    int64 \n",
      " 5   numOfInvitesAccepted     146 non-null    int64 \n",
      " 6   numOfRepliesReceived     146 non-null    int64 \n",
      " 7   userId                   146 non-null    int64 \n",
      " 8   useFirstName             146 non-null    object\n",
      " 9   deleted                  146 non-null    object\n",
      " 10  lastScheduledToScrapeAt  128 non-null    object\n",
      " 11  minimumInvites           146 non-null    int64 \n",
      " 12  maximumInvites           146 non-null    int64 \n",
      " 13  firstFollowUpsSent       146 non-null    int64 \n",
      " 14  secondFollowUpsSent      146 non-null    int64 \n",
      " 15  invitesWithdrawn         146 non-null    int64 \n",
      " 16  createdAt                146 non-null    object\n",
      " 17  updatedAt                146 non-null    object\n",
      " 18  thirdFollowUpsSent       146 non-null    int64 \n",
      " 19  fourthFollowUpsSent      146 non-null    int64 \n",
      " 20  fifthFollowUpsSent       146 non-null    int64 \n",
      " 21  sixthFollowUpsSent       146 non-null    int64 \n",
      " 22  type                     146 non-null    object\n",
      " 23  useScraperAccounts       146 non-null    object\n",
      "dtypes: int64(15), object(9)\n",
      "memory usage: 27.5+ KB\n",
      "None\n",
      "               id    numOfLeads  numOfInvitesSent  numOfInvitesAccepted  \\\n",
      "count  146.000000  1.460000e+02        146.000000            146.000000   \n",
      "mean    91.260274  2.928707e+05        313.321918             81.917808   \n",
      "std     47.121714  3.524320e+06        344.069819            110.055566   \n",
      "min      1.000000  0.000000e+00          0.000000              0.000000   \n",
      "25%     54.250000  5.300000e+01         18.000000              0.750000   \n",
      "50%     91.500000  4.080000e+02        224.500000             48.000000   \n",
      "75%    130.750000  8.615000e+02        477.250000            124.000000   \n",
      "max    169.000000  4.258569e+07       2596.000000            769.000000   \n",
      "\n",
      "       numOfRepliesReceived      userId  minimumInvites  maximumInvites  \\\n",
      "count            146.000000  146.000000      146.000000      146.000000   \n",
      "mean              45.267123   18.602740        6.267123       11.938356   \n",
      "std               66.371399   15.689434        7.629608       10.930011   \n",
      "min                0.000000    4.000000        1.000000        1.000000   \n",
      "25%                1.500000    5.000000        2.250000        7.000000   \n",
      "50%               20.500000   14.000000        5.000000       10.000000   \n",
      "75%               68.500000   27.750000        7.000000       14.000000   \n",
      "max              558.000000   63.000000       40.000000       60.000000   \n",
      "\n",
      "       firstFollowUpsSent  secondFollowUpsSent  invitesWithdrawn  \\\n",
      "count          146.000000           146.000000        146.000000   \n",
      "mean            46.130137            37.500000        174.876712   \n",
      "std             66.864068            57.902683        216.286429   \n",
      "min              0.000000             0.000000          0.000000   \n",
      "25%              0.000000             0.000000          0.000000   \n",
      "50%             29.000000            19.500000        118.000000   \n",
      "75%             66.750000            50.000000        284.000000   \n",
      "max            588.000000           406.000000       1480.000000   \n",
      "\n",
      "       thirdFollowUpsSent  fourthFollowUpsSent  fifthFollowUpsSent  \\\n",
      "count          146.000000           146.000000          146.000000   \n",
      "mean             8.787671             2.445205            0.130137   \n",
      "std             28.334750             9.800092            1.572451   \n",
      "min              0.000000             0.000000            0.000000   \n",
      "25%              0.000000             0.000000            0.000000   \n",
      "50%              0.000000             0.000000            0.000000   \n",
      "75%              0.000000             0.000000            0.000000   \n",
      "max            212.000000            55.000000           19.000000   \n",
      "\n",
      "       sixthFollowUpsSent  \n",
      "count               146.0  \n",
      "mean                  0.0  \n",
      "std                   0.0  \n",
      "min                   0.0  \n",
      "25%                   0.0  \n",
      "50%                   0.0  \n",
      "75%                   0.0  \n",
      "max                   0.0  \n",
      "id                         146\n",
      "name                       146\n",
      "status                       2\n",
      "numOfLeads                 109\n",
      "numOfInvitesSent           108\n",
      "numOfInvitesAccepted        89\n",
      "numOfRepliesReceived        77\n",
      "userId                      36\n",
      "useFirstName                 2\n",
      "deleted                      2\n",
      "lastScheduledToScrapeAt    128\n",
      "minimumInvites              15\n",
      "maximumInvites              21\n",
      "firstFollowUpsSent          74\n",
      "secondFollowUpsSent         68\n",
      "invitesWithdrawn            95\n",
      "createdAt                  146\n",
      "updatedAt                  146\n",
      "thirdFollowUpsSent          21\n",
      "fourthFollowUpsSent         12\n",
      "fifthFollowUpsSent           2\n",
      "sixthFollowUpsSent           1\n",
      "type                         4\n",
      "useScraperAccounts           2\n",
      "dtype: int64\n"
     ]
    }
   ],
   "source": [
    "print(campaigns_df.info())\n",
    "print(campaigns_df.describe())\n",
    "print(campaigns_df.nunique())"
   ]
  },
  {
   "cell_type": "code",
   "execution_count": 5,
   "metadata": {},
   "outputs": [
    {
     "name": "stdout",
     "output_type": "stream",
     "text": [
      "id                          0\n",
      "name                        0\n",
      "status                      0\n",
      "numOfLeads                  0\n",
      "numOfInvitesSent            0\n",
      "numOfInvitesAccepted        0\n",
      "numOfRepliesReceived        0\n",
      "userId                      0\n",
      "useFirstName                0\n",
      "deleted                     0\n",
      "lastScheduledToScrapeAt    18\n",
      "minimumInvites              0\n",
      "maximumInvites              0\n",
      "firstFollowUpsSent          0\n",
      "secondFollowUpsSent         0\n",
      "invitesWithdrawn            0\n",
      "createdAt                   0\n",
      "updatedAt                   0\n",
      "thirdFollowUpsSent          0\n",
      "fourthFollowUpsSent         0\n",
      "fifthFollowUpsSent          0\n",
      "sixthFollowUpsSent          0\n",
      "type                        0\n",
      "useScraperAccounts          0\n",
      "dtype: int64\n"
     ]
    }
   ],
   "source": [
    "# Check missing values\n",
    "print(campaigns_df.isnull().sum())"
   ]
  },
  {
   "cell_type": "code",
   "execution_count": 6,
   "metadata": {},
   "outputs": [
    {
     "data": {
      "image/png": "[encoded data removed]",
      "text/plain": [
       "<Figure size 1000x1000 with 16 Axes>"
      ]
     },
     "metadata": {},
     "output_type": "display_data"
    }
   ],
   "source": [
    "campaigns_df.hist(figsize=(10,10))\n",
    "plt.show()"
   ]
  },
  {
   "cell_type": "code",
   "execution_count": 7,
   "metadata": {},
   "outputs": [
    {
     "data": {
      "image/png": "[encoded data removed]",
      "text/plain": [
       "<Figure size 640x480 with 1 Axes>"
      ]
     },
     "metadata": {},
     "output_type": "display_data"
    }
   ],
   "source": [
    "sns.countplot(x='type', data=campaigns_df)\n",
    "plt.show()"
   ]
  },
  {
   "cell_type": "markdown",
   "metadata": {},
   "source": [
    "## 2. Leads"
   ]
  },
  {
   "cell_type": "code",
   "execution_count": null,
   "metadata": {},
   "outputs": [
    {
     "name": "stderr",
     "output_type": "stream",
     "text": [
      "/tmp/ipykernel_586538/881938342.py:1: DtypeWarning: Columns (23,31,32) have mixed types. Specify dtype option on import or set low_memory=False.\n",
      "  leads_df = pd.read_csv(os.path.join('dataset', 'actual', 'Leads.csv'))\n"
     ]
    },
    {
     "data": {
      "text/html": [
       "<div>\n",
       "<style scoped>\n",
       "    .dataframe tbody tr th:only-of-type {\n",
       "        vertical-align: middle;\n",
       "    }\n",
       "\n",
       "    .dataframe tbody tr th {\n",
       "        vertical-align: top;\n",
       "    }\n",
       "\n",
       "    .dataframe thead th {\n",
       "        text-align: right;\n",
       "    }\n",
       "</style>\n",
       "<table border=\"1\" class=\"dataframe\">\n",
       "  <thead>\n",
       "    <tr style=\"text-align: right;\">\n",
       "      <th></th>\n",
       "      <th>id</th>\n",
       "      <th>userId</th>\n",
       "      <th>campaignId</th>\n",
       "      <th>name</th>\n",
       "      <th>firstName</th>\n",
       "      <th>lastName</th>\n",
       "      <th>gender</th>\n",
       "      <th>email</th>\n",
       "      <th>companyName</th>\n",
       "      <th>title</th>\n",
       "      <th>...</th>\n",
       "      <th>fifthFollowUpSentAt</th>\n",
       "      <th>sixthFollowUpSentAt</th>\n",
       "      <th>emailFollowUpThreadId</th>\n",
       "      <th>firstEmailFollowUpSentAt</th>\n",
       "      <th>secondEmailFollowUpSentAt</th>\n",
       "      <th>existingMessagesCount</th>\n",
       "      <th>inviteAttempts</th>\n",
       "      <th>skip</th>\n",
       "      <th>cdsEmployeeId</th>\n",
       "      <th>skipReason</th>\n",
       "    </tr>\n",
       "  </thead>\n",
       "  <tbody>\n",
       "    <tr>\n",
       "      <th>0</th>\n",
       "      <td>42882</td>\n",
       "      <td>4</td>\n",
       "      <td>150</td>\n",
       "      <td>Tyrus Parker</td>\n",
       "      <td>Angella</td>\n",
       "      <td>Zemlak</td>\n",
       "      <td>male</td>\n",
       "      <td>ab@alexbetz.de</td>\n",
       "      <td>PATRIZIA AG</td>\n",
       "      <td>-</td>\n",
       "      <td>...</td>\n",
       "      <td>NaN</td>\n",
       "      <td>NaN</td>\n",
       "      <td>NaN</td>\n",
       "      <td>NaN</td>\n",
       "      <td>NaN</td>\n",
       "      <td>NaN</td>\n",
       "      <td>0</td>\n",
       "      <td>f</td>\n",
       "      <td>NaN</td>\n",
       "      <td>NaN</td>\n",
       "    </tr>\n",
       "  </tbody>\n",
       "</table>\n",
       "<p>1 rows × 33 columns</p>\n",
       "</div>"
      ],
      "text/plain": [
       "      id  userId  campaignId          name firstName lastName gender  \\\n",
       "0  42882       4         150  Tyrus Parker   Angella   Zemlak   male   \n",
       "\n",
       "            email  companyName title  ... fifthFollowUpSentAt  \\\n",
       "0  ab@alexbetz.de  PATRIZIA AG     -  ...                 NaN   \n",
       "\n",
       "  sixthFollowUpSentAt emailFollowUpThreadId firstEmailFollowUpSentAt  \\\n",
       "0                 NaN                   NaN                      NaN   \n",
       "\n",
       "  secondEmailFollowUpSentAt existingMessagesCount inviteAttempts skip  \\\n",
       "0                       NaN                   NaN              0    f   \n",
       "\n",
       "  cdsEmployeeId skipReason  \n",
       "0           NaN        NaN  \n",
       "\n",
       "[1 rows x 33 columns]"
      ]
     },
     "execution_count": 7,
     "metadata": {},
     "output_type": "execute_result"
    }
   ],
   "source": [
    "leads_df = pd.read_csv(os.path.join('dataset', 'actual', 'Leads.csv'))\n",
    "\n",
    "leads_df.head(n=1)"
   ]
  },
  {
   "cell_type": "markdown",
   "metadata": {},
   "source": [
    "## 3. Messages"
   ]
  },
  {
   "cell_type": "code",
   "execution_count": null,
   "metadata": {},
   "outputs": [
    {
     "data": {
      "text/html": [
       "<div>\n",
       "<style scoped>\n",
       "    .dataframe tbody tr th:only-of-type {\n",
       "        vertical-align: middle;\n",
       "    }\n",
       "\n",
       "    .dataframe tbody tr th {\n",
       "        vertical-align: top;\n",
       "    }\n",
       "\n",
       "    .dataframe thead th {\n",
       "        text-align: right;\n",
       "    }\n",
       "</style>\n",
       "<table border=\"1\" class=\"dataframe\">\n",
       "  <thead>\n",
       "    <tr style=\"text-align: right;\">\n",
       "      <th></th>\n",
       "      <th>order</th>\n",
       "      <th>campaignId</th>\n",
       "      <th>name</th>\n",
       "      <th>content</th>\n",
       "      <th>maleSalutation</th>\n",
       "      <th>femaleSalutation</th>\n",
       "      <th>interval</th>\n",
       "      <th>createdAt</th>\n",
       "      <th>updatedAt</th>\n",
       "      <th>type</th>\n",
       "    </tr>\n",
       "  </thead>\n",
       "  <tbody>\n",
       "    <tr>\n",
       "      <th>0</th>\n",
       "      <td>0</td>\n",
       "      <td>124</td>\n",
       "      <td>Initial contact message</td>\n",
       "      <td>{{ salutation }} {{ first_name }}\\nin den aktu...</td>\n",
       "      <td>Moin</td>\n",
       "      <td>Moin</td>\n",
       "      <td>NaN</td>\n",
       "      <td>2023-02-01 14:47:41.448+00</td>\n",
       "      <td>2023-02-01 14:47:41.448+00</td>\n",
       "      <td>LINKEDIN</td>\n",
       "    </tr>\n",
       "  </tbody>\n",
       "</table>\n",
       "</div>"
      ],
      "text/plain": [
       "   order  campaignId                     name  \\\n",
       "0      0         124  Initial contact message   \n",
       "\n",
       "                                             content maleSalutation  \\\n",
       "0  {{ salutation }} {{ first_name }}\\nin den aktu...           Moin   \n",
       "\n",
       "  femaleSalutation  interval                   createdAt  \\\n",
       "0             Moin       NaN  2023-02-01 14:47:41.448+00   \n",
       "\n",
       "                    updatedAt      type  \n",
       "0  2023-02-01 14:47:41.448+00  LINKEDIN  "
      ]
     },
     "execution_count": 8,
     "metadata": {},
     "output_type": "execute_result"
    }
   ],
   "source": [
    "messages_df = pd.read_csv(os.path.join('dataset', 'actual', 'Messages.csv'))\n",
    "\n",
    "messages_df.head(n=1)"
   ]
  },
  {
   "cell_type": "markdown",
   "metadata": {},
   "source": [
    "## 4. Records"
   ]
  },
  {
   "cell_type": "code",
   "execution_count": null,
   "metadata": {},
   "outputs": [
    {
     "data": {
      "text/html": [
       "<div>\n",
       "<style scoped>\n",
       "    .dataframe tbody tr th:only-of-type {\n",
       "        vertical-align: middle;\n",
       "    }\n",
       "\n",
       "    .dataframe tbody tr th {\n",
       "        vertical-align: top;\n",
       "    }\n",
       "\n",
       "    .dataframe thead th {\n",
       "        text-align: right;\n",
       "    }\n",
       "</style>\n",
       "<table border=\"1\" class=\"dataframe\">\n",
       "  <thead>\n",
       "    <tr style=\"text-align: right;\">\n",
       "      <th></th>\n",
       "      <th>id</th>\n",
       "      <th>campaignId</th>\n",
       "      <th>userId</th>\n",
       "      <th>status</th>\n",
       "      <th>numOfInvitesSent</th>\n",
       "      <th>numOfInvitesAccepted</th>\n",
       "      <th>numOfRepliesReceived</th>\n",
       "      <th>firstFollowUpsSent</th>\n",
       "      <th>secondFollowUpsSent</th>\n",
       "      <th>invitesWithdrawn</th>\n",
       "      <th>minimumInvites</th>\n",
       "      <th>maximumInvites</th>\n",
       "      <th>createdAt</th>\n",
       "      <th>updatedAt</th>\n",
       "      <th>thirdFollowUpsSent</th>\n",
       "      <th>fourthFollowUpsSent</th>\n",
       "      <th>fifthFollowUpsSent</th>\n",
       "      <th>sixthFollowUpsSent</th>\n",
       "    </tr>\n",
       "  </thead>\n",
       "  <tbody>\n",
       "    <tr>\n",
       "      <th>0</th>\n",
       "      <td>1</td>\n",
       "      <td>54</td>\n",
       "      <td>4</td>\n",
       "      <td>ACTIVE</td>\n",
       "      <td>507</td>\n",
       "      <td>124</td>\n",
       "      <td>68</td>\n",
       "      <td>32</td>\n",
       "      <td>14</td>\n",
       "      <td>117</td>\n",
       "      <td>8</td>\n",
       "      <td>14</td>\n",
       "      <td>2022-05-09 19:00:00.226+00</td>\n",
       "      <td>2022-05-09 19:00:00.226+00</td>\n",
       "      <td>0</td>\n",
       "      <td>0</td>\n",
       "      <td>0</td>\n",
       "      <td>0</td>\n",
       "    </tr>\n",
       "  </tbody>\n",
       "</table>\n",
       "</div>"
      ],
      "text/plain": [
       "   id  campaignId  userId  status  numOfInvitesSent  numOfInvitesAccepted  \\\n",
       "0   1          54       4  ACTIVE               507                   124   \n",
       "\n",
       "   numOfRepliesReceived  firstFollowUpsSent  secondFollowUpsSent  \\\n",
       "0                    68                  32                   14   \n",
       "\n",
       "   invitesWithdrawn  minimumInvites  maximumInvites  \\\n",
       "0               117               8              14   \n",
       "\n",
       "                    createdAt                   updatedAt  thirdFollowUpsSent  \\\n",
       "0  2022-05-09 19:00:00.226+00  2022-05-09 19:00:00.226+00                   0   \n",
       "\n",
       "   fourthFollowUpsSent  fifthFollowUpsSent  sixthFollowUpsSent  \n",
       "0                    0                   0                   0  "
      ]
     },
     "execution_count": 9,
     "metadata": {},
     "output_type": "execute_result"
    }
   ],
   "source": [
    "records_df = pd.read_csv(os.path.join('dataset', 'actual', 'Records.csv'))\n",
    "\n",
    "records_df.head(n=1)"
   ]
  },
  {
   "cell_type": "markdown",
   "metadata": {},
   "source": [
    "## 5. Users"
   ]
  },
  {
   "cell_type": "code",
   "execution_count": null,
   "metadata": {},
   "outputs": [
    {
     "data": {
      "text/html": [
       "<div>\n",
       "<style scoped>\n",
       "    .dataframe tbody tr th:only-of-type {\n",
       "        vertical-align: middle;\n",
       "    }\n",
       "\n",
       "    .dataframe tbody tr th {\n",
       "        vertical-align: top;\n",
       "    }\n",
       "\n",
       "    .dataframe thead th {\n",
       "        text-align: right;\n",
       "    }\n",
       "</style>\n",
       "<table border=\"1\" class=\"dataframe\">\n",
       "  <thead>\n",
       "    <tr style=\"text-align: right;\">\n",
       "      <th></th>\n",
       "      <th>id</th>\n",
       "      <th>companyName</th>\n",
       "      <th>email</th>\n",
       "      <th>role</th>\n",
       "      <th>userBoughtCredit</th>\n",
       "      <th>userUsedCredit</th>\n",
       "      <th>createdAt</th>\n",
       "      <th>updatedAt</th>\n",
       "    </tr>\n",
       "  </thead>\n",
       "  <tbody>\n",
       "    <tr>\n",
       "      <th>0</th>\n",
       "      <td>57</td>\n",
       "      <td>Stone, Fitzgerald and Aguilar</td>\n",
       "      <td>kimberlyjohnson@kirk.net</td>\n",
       "      <td>User</td>\n",
       "      <td>1000</td>\n",
       "      <td>572</td>\n",
       "      <td>2022-11-23 11:02:44.495+00</td>\n",
       "      <td>2023-05-15 11:53:02.237+00</td>\n",
       "    </tr>\n",
       "  </tbody>\n",
       "</table>\n",
       "</div>"
      ],
      "text/plain": [
       "   id                    companyName                     email  role  \\\n",
       "0  57  Stone, Fitzgerald and Aguilar  kimberlyjohnson@kirk.net  User   \n",
       "\n",
       "   userBoughtCredit  userUsedCredit                   createdAt  \\\n",
       "0              1000             572  2022-11-23 11:02:44.495+00   \n",
       "\n",
       "                    updatedAt  \n",
       "0  2023-05-15 11:53:02.237+00  "
      ]
     },
     "execution_count": 10,
     "metadata": {},
     "output_type": "execute_result"
    }
   ],
   "source": [
    "users_df = pd.read_csv(os.path.join('dataset', 'actual', 'Users.csv'))\n",
    "\n",
    "users_df.head(n=1)"
   ]
  },
  {
   "cell_type": "markdown",
   "metadata": {},
   "source": [
    "# II. Data Preprocessing"
   ]
  },
  {
   "cell_type": "markdown",
   "metadata": {},
   "source": []
  },
  {
   "cell_type": "markdown",
   "metadata": {},
   "source": [
    "# III. Feature Engineering"
   ]
  },
  {
   "cell_type": "markdown",
   "metadata": {},
   "source": []
  },
  {
   "cell_type": "markdown",
   "metadata": {},
   "source": [
    "# IV. Model Selection"
   ]
  },
  {
   "cell_type": "markdown",
   "metadata": {},
   "source": []
  },
  {
   "cell_type": "markdown",
   "metadata": {},
   "source": [
    "# V. Model Training"
   ]
  },
  {
   "cell_type": "markdown",
   "metadata": {},
   "source": []
  },
  {
   "cell_type": "markdown",
   "metadata": {},
   "source": [
    "# VI. Model Evaluation"
   ]
  },
  {
   "cell_type": "markdown",
   "metadata": {},
   "source": []
  },
  {
   "cell_type": "markdown",
   "metadata": {},
   "source": [
    "# VII. Interpretation"
   ]
  },
  {
   "cell_type": "markdown",
   "metadata": {},
   "source": []
  },
  {
   "cell_type": "markdown",
   "metadata": {},
   "source": [
    "TODO:\n",
    "\n",
    "- Deployment\n",
    "- Documentation\n",
    "- Presentation"
   ]
  }
 ],
 "metadata": {
  "kernelspec": {
   "display_name": "ml-lead-generating",
   "language": "python",
   "name": "python3"
  },
  "language_info": {
   "codemirror_mode": {
    "name": "ipython",
    "version": 3
   },
   "file_extension": ".py",
   "mimetype": "text/x-python",
   "name": "python",
   "nbconvert_exporter": "python",
   "pygments_lexer": "ipython3",
   "version": "3.12.0"
  }
 },
 "nbformat": 4,
 "nbformat_minor": 2
}
